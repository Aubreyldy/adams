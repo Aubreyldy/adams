{
 "cells": [
  {
   "cell_type": "markdown",
   "metadata": {},
   "source": [
    "[![Open In Colab](https://colab.research.google.com/assets/colab-badge.svg)](https://colab.research.google.com/github/Humboldt-WI/adams/blob/master/demos/feedforward_networks/nn_in_keras.ipynb) "
   ]
  },
  {
   "cell_type": "markdown",
   "metadata": {},
   "source": [
    "# Implementing Neural Networks using Keras "
   ]
  },
  {
   "cell_type": "markdown",
   "metadata": {},
   "source": [
    "Having build a simple from-scratch NN in the [previus demo](https://github.com/Humboldt-WI/adams/blob/master/demos/feedforward_networks/nn_foundations.ipynb), we are ready to examine the the implementation of deep learning models in Keras. [Keras](https://keras.io/) is one of many programming frameworks for deep learning. As usual, different tools or frameworks have advantages and disadvantages. For Keras, the main advantage is simplicity. It is great for learning and will suffice for many applied deep learning research projects. \n",
    "\n",
    "Keras is a high-level API, meaning that you need a partnering tool, a deep learning workhorse if you wish, that handles the actual computations. Keras supports multiple alternatives but the natural choice is Google's [Tensorflow](https://www.tensorflow.org/). Tensorflow is one of the most popular and powerful deep learning frameworks. In a nutshell, Tensorflow allows you to do everything you can do in Keras and a lot more. However, the downside is that programming in tensorflow is a little more complicated, which makes Keras the better choice for this course. For the sake of completeless, note that other popular and powerful frameworks for deep learning include [PyTorch](https://pytorch.org/) and [MXNet](https://mxnet.apache.org/), to name just a few. Further, an interesting option similar to Keras is [Gluon](https://aws.amazon.com/de/blogs/aws/introducing-gluon-a-new-library-for-machine-learning-from-aws-and-microsoft/), a joint venture of Amazon AWS and Microsoft. Gluon is similar to Keras in that it offers developers an easy way to interface an underlying deep learning framework; in this case MXNet. Gluon is also the framework used in our main text book [Dive into Deep Learning](http://d2l.ai/). And here is just [another GREAT resource](https://gluon.mxnet.io/index.html) for learning about deep learning and Gluon.      \n",
    "\n",
    "If you are interested in learning a little more about the different options, [this post](https://towardsdatascience.com/top-10-best-deep-learning-frameworks-in-2019-5ccb90ea6de) is a good starting point. \n",
    "\n",
    "Enough talking about libraries, frameworks and the like. Let's start with Keras. Our goal is to build a NN for multi-class classification. We need to make several decisions when configuring our NN and focus on these when learning about Keras. Here is the agenda for this demo. \n",
    "\n",
    "**Outline**\n",
    "\n",
    " 1. number of hidden layers\n",
    " 2. number of neurons in hidden layers\n",
    " 3. activation functions\n",
    " 4. type of weight initialization\n",
    " 5. loss function\n",
    " 6. learning rate and momentum\n",
    " 6. optimizer\n",
    " 7. size of batch\n",
    " 8. number of epochs\n",
    " 9. regularization (dropout)"
   ]
  },
  {
   "cell_type": "markdown",
   "metadata": {},
   "source": [
    "## Use case: app rating analysis \n",
    "NNs often solve classification problems with many classes. We will see many examples when coming to the NLP part of the course. To illustrate  a multi-class context that, we will a demo data set concerned with app ratings. The original data is available on [Kaggle](https://www.kaggle.com/ramamet4/app-store-apple-data-set-10k-apps). There, you also find a data dictionary with some information on the variables. However, the variable names are rather self-explanatory. A cleaned version of the data is our repo. If you want to examine the preprocessing steps, you can check out the script ([app_store_dpp.py](https://github.com/Humboldt-WI/adams/tree/master/demos/feedforward_networks/app_store_dpp.py)), which starts from the original Kaggle data set and goes through a couple of pre-processing operations to produce the version we use below. "
   ]
  },
  {
   "cell_type": "code",
   "execution_count": 1,
   "metadata": {
    "pycharm": {
     "is_executing": false
    }
   },
   "outputs": [
    {
     "data": {
      "text/html": [
       "<div>\n",
       "<style scoped>\n",
       "    .dataframe tbody tr th:only-of-type {\n",
       "        vertical-align: middle;\n",
       "    }\n",
       "\n",
       "    .dataframe tbody tr th {\n",
       "        vertical-align: top;\n",
       "    }\n",
       "\n",
       "    .dataframe thead th {\n",
       "        text-align: right;\n",
       "    }\n",
       "</style>\n",
       "<table border=\"1\" class=\"dataframe\">\n",
       "  <thead>\n",
       "    <tr style=\"text-align: right;\">\n",
       "      <th></th>\n",
       "      <th>size_bytes</th>\n",
       "      <th>price</th>\n",
       "      <th>rating_count_tot</th>\n",
       "      <th>sup_devices.num</th>\n",
       "      <th>ipadSc_urls.num</th>\n",
       "      <th>lang.num</th>\n",
       "      <th>vpp_lic</th>\n",
       "      <th>currency_USD</th>\n",
       "      <th>cont_rating_12+</th>\n",
       "      <th>cont_rating_17+</th>\n",
       "      <th>...</th>\n",
       "      <th>prime_genre_Photo &amp; Video</th>\n",
       "      <th>prime_genre_Productivity</th>\n",
       "      <th>prime_genre_Reference</th>\n",
       "      <th>prime_genre_Shopping</th>\n",
       "      <th>prime_genre_Social Networking</th>\n",
       "      <th>prime_genre_Sports</th>\n",
       "      <th>prime_genre_Travel</th>\n",
       "      <th>prime_genre_Utilities</th>\n",
       "      <th>prime_genre_Weather</th>\n",
       "      <th>user_rating</th>\n",
       "    </tr>\n",
       "    <tr>\n",
       "      <th>track_name</th>\n",
       "      <th></th>\n",
       "      <th></th>\n",
       "      <th></th>\n",
       "      <th></th>\n",
       "      <th></th>\n",
       "      <th></th>\n",
       "      <th></th>\n",
       "      <th></th>\n",
       "      <th></th>\n",
       "      <th></th>\n",
       "      <th></th>\n",
       "      <th></th>\n",
       "      <th></th>\n",
       "      <th></th>\n",
       "      <th></th>\n",
       "      <th></th>\n",
       "      <th></th>\n",
       "      <th></th>\n",
       "      <th></th>\n",
       "      <th></th>\n",
       "      <th></th>\n",
       "    </tr>\n",
       "  </thead>\n",
       "  <tbody>\n",
       "    <tr>\n",
       "      <th>PAC-MAN Premium</th>\n",
       "      <td>-0.273806</td>\n",
       "      <td>0.388126</td>\n",
       "      <td>0.110902</td>\n",
       "      <td>0.170753</td>\n",
       "      <td>0.651051</td>\n",
       "      <td>0.576471</td>\n",
       "      <td>0.083642</td>\n",
       "      <td>1</td>\n",
       "      <td>0</td>\n",
       "      <td>0</td>\n",
       "      <td>...</td>\n",
       "      <td>0</td>\n",
       "      <td>0</td>\n",
       "      <td>0</td>\n",
       "      <td>0</td>\n",
       "      <td>0</td>\n",
       "      <td>0</td>\n",
       "      <td>0</td>\n",
       "      <td>0</td>\n",
       "      <td>0</td>\n",
       "      <td>4.0</td>\n",
       "    </tr>\n",
       "    <tr>\n",
       "      <th>Evernote - stay organized</th>\n",
       "      <td>-0.112911</td>\n",
       "      <td>-0.295960</td>\n",
       "      <td>1.956477</td>\n",
       "      <td>-0.096808</td>\n",
       "      <td>0.651051</td>\n",
       "      <td>2.218083</td>\n",
       "      <td>0.083642</td>\n",
       "      <td>1</td>\n",
       "      <td>0</td>\n",
       "      <td>0</td>\n",
       "      <td>...</td>\n",
       "      <td>0</td>\n",
       "      <td>1</td>\n",
       "      <td>0</td>\n",
       "      <td>0</td>\n",
       "      <td>0</td>\n",
       "      <td>0</td>\n",
       "      <td>0</td>\n",
       "      <td>0</td>\n",
       "      <td>0</td>\n",
       "      <td>4.0</td>\n",
       "    </tr>\n",
       "    <tr>\n",
       "      <th>WeatherBug - Local Weather, Radar, Maps, Alerts</th>\n",
       "      <td>-0.274542</td>\n",
       "      <td>-0.295960</td>\n",
       "      <td>2.319827</td>\n",
       "      <td>-0.096808</td>\n",
       "      <td>0.651051</td>\n",
       "      <td>-0.307474</td>\n",
       "      <td>0.083642</td>\n",
       "      <td>1</td>\n",
       "      <td>0</td>\n",
       "      <td>0</td>\n",
       "      <td>...</td>\n",
       "      <td>0</td>\n",
       "      <td>0</td>\n",
       "      <td>0</td>\n",
       "      <td>0</td>\n",
       "      <td>0</td>\n",
       "      <td>0</td>\n",
       "      <td>0</td>\n",
       "      <td>0</td>\n",
       "      <td>1</td>\n",
       "      <td>4.0</td>\n",
       "    </tr>\n",
       "    <tr>\n",
       "      <th>eBay: Best App to Buy, Sell, Save! Online Shopping</th>\n",
       "      <td>-0.196620</td>\n",
       "      <td>-0.295960</td>\n",
       "      <td>3.292413</td>\n",
       "      <td>-0.096808</td>\n",
       "      <td>0.651051</td>\n",
       "      <td>0.450193</td>\n",
       "      <td>0.083642</td>\n",
       "      <td>1</td>\n",
       "      <td>1</td>\n",
       "      <td>0</td>\n",
       "      <td>...</td>\n",
       "      <td>0</td>\n",
       "      <td>0</td>\n",
       "      <td>0</td>\n",
       "      <td>1</td>\n",
       "      <td>0</td>\n",
       "      <td>0</td>\n",
       "      <td>0</td>\n",
       "      <td>0</td>\n",
       "      <td>0</td>\n",
       "      <td>4.0</td>\n",
       "    </tr>\n",
       "    <tr>\n",
       "      <th>Bible</th>\n",
       "      <td>-0.296117</td>\n",
       "      <td>-0.295960</td>\n",
       "      <td>12.847931</td>\n",
       "      <td>-0.096808</td>\n",
       "      <td>0.651051</td>\n",
       "      <td>4.996197</td>\n",
       "      <td>0.083642</td>\n",
       "      <td>1</td>\n",
       "      <td>0</td>\n",
       "      <td>0</td>\n",
       "      <td>...</td>\n",
       "      <td>0</td>\n",
       "      <td>0</td>\n",
       "      <td>1</td>\n",
       "      <td>0</td>\n",
       "      <td>0</td>\n",
       "      <td>0</td>\n",
       "      <td>0</td>\n",
       "      <td>0</td>\n",
       "      <td>0</td>\n",
       "      <td>4.0</td>\n",
       "    </tr>\n",
       "  </tbody>\n",
       "</table>\n",
       "<p>5 rows × 36 columns</p>\n",
       "</div>"
      ],
      "text/plain": [
       "                                                    size_bytes     price  \\\n",
       "track_name                                                                 \n",
       "PAC-MAN Premium                                      -0.273806  0.388126   \n",
       "Evernote - stay organized                            -0.112911 -0.295960   \n",
       "WeatherBug - Local Weather, Radar, Maps, Alerts      -0.274542 -0.295960   \n",
       "eBay: Best App to Buy, Sell, Save! Online Shopping   -0.196620 -0.295960   \n",
       "Bible                                                -0.296117 -0.295960   \n",
       "\n",
       "                                                    rating_count_tot  \\\n",
       "track_name                                                             \n",
       "PAC-MAN Premium                                             0.110902   \n",
       "Evernote - stay organized                                   1.956477   \n",
       "WeatherBug - Local Weather, Radar, Maps, Alerts             2.319827   \n",
       "eBay: Best App to Buy, Sell, Save! Online Shopping          3.292413   \n",
       "Bible                                                      12.847931   \n",
       "\n",
       "                                                    sup_devices.num  \\\n",
       "track_name                                                            \n",
       "PAC-MAN Premium                                            0.170753   \n",
       "Evernote - stay organized                                 -0.096808   \n",
       "WeatherBug - Local Weather, Radar, Maps, Alerts           -0.096808   \n",
       "eBay: Best App to Buy, Sell, Save! Online Shopping        -0.096808   \n",
       "Bible                                                     -0.096808   \n",
       "\n",
       "                                                    ipadSc_urls.num  lang.num  \\\n",
       "track_name                                                                      \n",
       "PAC-MAN Premium                                            0.651051  0.576471   \n",
       "Evernote - stay organized                                  0.651051  2.218083   \n",
       "WeatherBug - Local Weather, Radar, Maps, Alerts            0.651051 -0.307474   \n",
       "eBay: Best App to Buy, Sell, Save! Online Shopping         0.651051  0.450193   \n",
       "Bible                                                      0.651051  4.996197   \n",
       "\n",
       "                                                     vpp_lic  currency_USD  \\\n",
       "track_name                                                                   \n",
       "PAC-MAN Premium                                     0.083642             1   \n",
       "Evernote - stay organized                           0.083642             1   \n",
       "WeatherBug - Local Weather, Radar, Maps, Alerts     0.083642             1   \n",
       "eBay: Best App to Buy, Sell, Save! Online Shopping  0.083642             1   \n",
       "Bible                                               0.083642             1   \n",
       "\n",
       "                                                    cont_rating_12+  \\\n",
       "track_name                                                            \n",
       "PAC-MAN Premium                                                   0   \n",
       "Evernote - stay organized                                         0   \n",
       "WeatherBug - Local Weather, Radar, Maps, Alerts                   0   \n",
       "eBay: Best App to Buy, Sell, Save! Online Shopping                1   \n",
       "Bible                                                             0   \n",
       "\n",
       "                                                    cont_rating_17+  ...  \\\n",
       "track_name                                                           ...   \n",
       "PAC-MAN Premium                                                   0  ...   \n",
       "Evernote - stay organized                                         0  ...   \n",
       "WeatherBug - Local Weather, Radar, Maps, Alerts                   0  ...   \n",
       "eBay: Best App to Buy, Sell, Save! Online Shopping                0  ...   \n",
       "Bible                                                             0  ...   \n",
       "\n",
       "                                                    prime_genre_Photo & Video  \\\n",
       "track_name                                                                      \n",
       "PAC-MAN Premium                                                             0   \n",
       "Evernote - stay organized                                                   0   \n",
       "WeatherBug - Local Weather, Radar, Maps, Alerts                             0   \n",
       "eBay: Best App to Buy, Sell, Save! Online Shopping                          0   \n",
       "Bible                                                                       0   \n",
       "\n",
       "                                                    prime_genre_Productivity  \\\n",
       "track_name                                                                     \n",
       "PAC-MAN Premium                                                            0   \n",
       "Evernote - stay organized                                                  1   \n",
       "WeatherBug - Local Weather, Radar, Maps, Alerts                            0   \n",
       "eBay: Best App to Buy, Sell, Save! Online Shopping                         0   \n",
       "Bible                                                                      0   \n",
       "\n",
       "                                                    prime_genre_Reference  \\\n",
       "track_name                                                                  \n",
       "PAC-MAN Premium                                                         0   \n",
       "Evernote - stay organized                                               0   \n",
       "WeatherBug - Local Weather, Radar, Maps, Alerts                         0   \n",
       "eBay: Best App to Buy, Sell, Save! Online Shopping                      0   \n",
       "Bible                                                                   1   \n",
       "\n",
       "                                                    prime_genre_Shopping  \\\n",
       "track_name                                                                 \n",
       "PAC-MAN Premium                                                        0   \n",
       "Evernote - stay organized                                              0   \n",
       "WeatherBug - Local Weather, Radar, Maps, Alerts                        0   \n",
       "eBay: Best App to Buy, Sell, Save! Online Shopping                     1   \n",
       "Bible                                                                  0   \n",
       "\n",
       "                                                    prime_genre_Social Networking  \\\n",
       "track_name                                                                          \n",
       "PAC-MAN Premium                                                                 0   \n",
       "Evernote - stay organized                                                       0   \n",
       "WeatherBug - Local Weather, Radar, Maps, Alerts                                 0   \n",
       "eBay: Best App to Buy, Sell, Save! Online Shopping                              0   \n",
       "Bible                                                                           0   \n",
       "\n",
       "                                                    prime_genre_Sports  \\\n",
       "track_name                                                               \n",
       "PAC-MAN Premium                                                      0   \n",
       "Evernote - stay organized                                            0   \n",
       "WeatherBug - Local Weather, Radar, Maps, Alerts                      0   \n",
       "eBay: Best App to Buy, Sell, Save! Online Shopping                   0   \n",
       "Bible                                                                0   \n",
       "\n",
       "                                                    prime_genre_Travel  \\\n",
       "track_name                                                               \n",
       "PAC-MAN Premium                                                      0   \n",
       "Evernote - stay organized                                            0   \n",
       "WeatherBug - Local Weather, Radar, Maps, Alerts                      0   \n",
       "eBay: Best App to Buy, Sell, Save! Online Shopping                   0   \n",
       "Bible                                                                0   \n",
       "\n",
       "                                                    prime_genre_Utilities  \\\n",
       "track_name                                                                  \n",
       "PAC-MAN Premium                                                         0   \n",
       "Evernote - stay organized                                               0   \n",
       "WeatherBug - Local Weather, Radar, Maps, Alerts                         0   \n",
       "eBay: Best App to Buy, Sell, Save! Online Shopping                      0   \n",
       "Bible                                                                   0   \n",
       "\n",
       "                                                    prime_genre_Weather  \\\n",
       "track_name                                                                \n",
       "PAC-MAN Premium                                                       0   \n",
       "Evernote - stay organized                                             0   \n",
       "WeatherBug - Local Weather, Radar, Maps, Alerts                       1   \n",
       "eBay: Best App to Buy, Sell, Save! Online Shopping                    0   \n",
       "Bible                                                                 0   \n",
       "\n",
       "                                                    user_rating  \n",
       "track_name                                                       \n",
       "PAC-MAN Premium                                             4.0  \n",
       "Evernote - stay organized                                   4.0  \n",
       "WeatherBug - Local Weather, Radar, Maps, Alerts             4.0  \n",
       "eBay: Best App to Buy, Sell, Save! Online Shopping          4.0  \n",
       "Bible                                                       4.0  \n",
       "\n",
       "[5 rows x 36 columns]"
      ]
     },
     "execution_count": 1,
     "metadata": {},
     "output_type": "execute_result"
    }
   ],
   "source": [
    "# Setting up the environment: import standard libraries and load the data. \n",
    "import numpy as np\n",
    "import pandas as pd\n",
    "import matplotlib.pyplot as plt\n",
    "from sklearn.preprocessing import LabelEncoder\n",
    "from sklearn.model_selection import train_test_split\n",
    "from keras.utils import np_utils\n",
    "\n",
    "# Load dataset and set app name as index\n",
    "data_file = 'AppleStore_prep.csv' \n",
    "X = pd.read_csv(data_file, index_col=False, sep='\\t', encoding='utf-8')\n",
    "X = X.set_index('track_name')\n",
    "X.head(5)"
   ]
  },
  {
   "cell_type": "markdown",
   "metadata": {},
   "source": [
    "The target variable in this data set is the user rating of the app."
   ]
  },
  {
   "cell_type": "code",
   "execution_count": 2,
   "metadata": {},
   "outputs": [
    {
     "data": {
      "image/png": "[encoded data removed]",
      "text/plain": [
       "<Figure size 432x288 with 1 Axes>"
      ]
     },
     "metadata": {
      "needs_background": "light"
     },
     "output_type": "display_data"
    }
   ],
   "source": [
    "# Show target distribution\n",
    "plt.hist(X.user_rating)\n",
    "plt.xlabel('user_rating')\n",
    "plt.title('Rating distribution')\n",
    "plt.show();"
   ]
  },
  {
   "cell_type": "markdown",
   "metadata": {},
   "source": [
    "To train a NN predict this multi-class target, we have to properly encode the target variable. Specifically, we encode it as a dummy vector as follows."
   ]
  },
  {
   "cell_type": "code",
   "execution_count": 3,
   "metadata": {
    "pycharm": {
     "is_executing": false
    }
   },
   "outputs": [
    {
     "data": {
      "text/plain": [
       "array([[0., 0., 0., 0., 1., 0.],\n",
       "       [0., 0., 0., 0., 1., 0.],\n",
       "       [0., 0., 0., 0., 1., 0.],\n",
       "       ...,\n",
       "       [0., 0., 0., 0., 1., 0.],\n",
       "       [0., 0., 0., 0., 1., 0.],\n",
       "       [0., 0., 0., 0., 0., 1.]], dtype=float32)"
      ]
     },
     "execution_count": 3,
     "metadata": {},
     "output_type": "execute_result"
    }
   ],
   "source": [
    "# Dummy encoding of the target\n",
    "encoder = LabelEncoder()\n",
    "encoder.fit(X[\"user_rating\"])\n",
    "y = np_utils.to_categorical( encoder.transform(X[\"user_rating\"]))\n",
    "X.pop(\"user_rating\")\n",
    "y"
   ]
  },
  {
   "cell_type": "code",
   "execution_count": 4,
   "metadata": {
    "pycharm": {
     "is_executing": false
    }
   },
   "outputs": [
    {
     "name": "stdout",
     "output_type": "stream",
     "text": [
      "(5037, 35)\n",
      "(5037, 6)\n"
     ]
    }
   ],
   "source": [
    "# Split data into training and test set\n",
    "seed=888\n",
    "X_train, X_test, y_train, y_test = train_test_split(X, y, test_size=0.30, random_state=seed)\n",
    "    \n",
    "print (X_train.shape)\n",
    "print(y_train.shape) "
   ]
  },
  {
   "cell_type": "markdown",
   "metadata": {},
   "source": [
    "## Preparing the Keras framework \n",
    "\n",
    "### 1+2: Number of hidden layers and number of neurons\n",
    "The number of layers and the number of neurons is a parameter that you would have to decide on. \n",
    "\n",
    "A *deep* NN is one with more than one hidden layer, so we will use **2 hidden layers** this time.\n",
    "\n",
    "As to the size of hidden layers, we go for **n=128**."
   ]
  },
  {
   "cell_type": "code",
   "execution_count": 5,
   "metadata": {},
   "outputs": [],
   "source": [
    "nb_units = 128"
   ]
  },
  {
   "cell_type": "markdown",
   "metadata": {},
   "source": [
    "### 3: activation function ###\n",
    "We will go for industry standard which is **relu** and keep a **softmax** at the end, given our multiclass task. "
   ]
  },
  {
   "cell_type": "markdown",
   "metadata": {},
   "source": [
    "### 4: weight initialisation\n",
    "Weight initialization might seem minor but it can have a major impact on the convergence of the network.\n",
    "\n",
    "At the picture: all weights are set to 0, second is the normally distributed weights with std=0.4. \n",
    "In the rightmost plot, the weights are drawn from normal distributions with variances which are inversely proportional to the number of inputs into each neuron (he normal).\n",
    "\n",
    "<img src=\"https://intoli.com/blog/neural-network-initialization/img/training-losses.png\"  alt=\"fwe\" style=\"width: 1000px;\"/> \n",
    "\n",
    "https://intoli.com/blog/neural-network-initialization/\n",
    "\n",
    "We will be using the **He Normal initialization**, which is one of the industry standards and recommended for ReLu. It draws samples from a truncated normal distribution with $\\mu=0$ and $ \\sigma = \\sqrt{2 / (d_{l-1})}$. Recall that $d_{l-1}$ refers to the number of nodes in the previous layer and, therefore, the number of inputs to a node in the current layer.\n",
    "\n",
    "So in our case the standard deviation for our first weight matrix would be:"
   ]
  },
  {
   "cell_type": "code",
   "execution_count": 6,
   "metadata": {},
   "outputs": [
    {
     "data": {
      "text/plain": [
       "0.23904572186687872"
      ]
     },
     "execution_count": 6,
     "metadata": {},
     "output_type": "execute_result"
    }
   ],
   "source": [
    "# If you remember we previously used the (6/(35)) - we used the Glorot uniform (also called Xavier initialization)\n",
    "std = np.sqrt(2/(X.shape[1])) \n",
    "std"
   ]
  },
  {
   "cell_type": "markdown",
   "metadata": {},
   "source": [
    "## Let's put down what we have decided on already: ##\n",
    "Keras offer you two \"styles\" of setting up the structure of your network (they call it two types of model): **sequential** and **functional API** (https://keras.io/models/about-keras-mod). In general, the code is a little easier to read when using the sequential API, whereas the functional API allows for some more flexibility in configuring the network. Since this is the first demo of Keras, we illustrate both options.  Later, we will focus on the sequential API. "
   ]
  },
  {
   "cell_type": "code",
   "execution_count": 7,
   "metadata": {},
   "outputs": [
    {
     "name": "stdout",
     "output_type": "stream",
     "text": [
      "Model: \"sequential\"\n",
      "_________________________________________________________________\n",
      " Layer (type)                Output Shape              Param #   \n",
      "=================================================================\n",
      " dense (Dense)               (None, 128)               4608      \n",
      "                                                                 \n",
      " dense_1 (Dense)             (None, 128)               16512     \n",
      "                                                                 \n",
      " dense_2 (Dense)             (None, 6)                 774       \n",
      "                                                                 \n",
      "=================================================================\n",
      "Total params: 21,894\n",
      "Trainable params: 21,894\n",
      "Non-trainable params: 0\n",
      "_________________________________________________________________\n"
     ]
    },
    {
     "name": "stderr",
     "output_type": "stream",
     "text": [
      "2022-07-03 23:09:56.340269: I tensorflow/core/platform/cpu_feature_guard.cc:151] This TensorFlow binary is optimized with oneAPI Deep Neural Network Library (oneDNN) to use the following CPU instructions in performance-critical operations:  AVX2 FMA\n",
      "To enable them in other operations, rebuild TensorFlow with the appropriate compiler flags.\n"
     ]
    }
   ],
   "source": [
    "from tensorflow import keras\n",
    "from tensorflow.keras import layers\n",
    "\n",
    "model = keras.Sequential()\n",
    "model.add(layers.Dense(nb_units,  #number of neurons\n",
    "                activation='relu',  #activation function\n",
    "                kernel_initializer=keras.initializers.he_normal(seed=seed),  #initialisation of weights; check doc for more options\n",
    "                bias_initializer='zeros', #initialization of biases, will also be done by default\n",
    "                input_shape=(X.shape[1],))) #first hidden layer size, i.e. number of features\n",
    "# One more layer with the same configuration\n",
    "model.add(layers.Dense(nb_units, activation='relu', kernel_initializer=keras.initializers.he_normal(seed=seed), bias_initializer='zeros')) \n",
    "\n",
    "# And finally the outout layer\n",
    "nb_classes = y.shape[1]\n",
    "model.add(layers.Dense(nb_classes, activation='softmax', kernel_initializer=keras.initializers.he_normal(seed=seed), bias_initializer='zeros')) \n",
    "\n",
    "######################let's see how our architecture looks like (also very helpful to learn how many parameters will be trained and compare to\n",
    "#the size of your training set)\n",
    "model.summary()"
   ]
  },
  {
   "cell_type": "markdown",
   "metadata": {},
   "source": [
    "Let's try to confirm these parameters manually."
   ]
  },
  {
   "cell_type": "code",
   "execution_count": 8,
   "metadata": {},
   "outputs": [
    {
     "name": "stdout",
     "output_type": "stream",
     "text": [
      "4608\n",
      "16512\n",
      "768\n"
     ]
    }
   ],
   "source": [
    "# input to hidden layer:\n",
    "\n",
    "print(X.shape[1] * nb_units + nb_units)\n",
    "\n",
    "# first hidden to second hidden layer\n",
    "print(nb_units * nb_units + nb_units)\n",
    "\n",
    "# second hidden to output layer\n",
    "print(nb_units * nb_classes)"
   ]
  },
  {
   "cell_type": "code",
   "execution_count": 9,
   "metadata": {},
   "outputs": [
    {
     "name": "stdout",
     "output_type": "stream",
     "text": [
      "Model: \"model\"\n",
      "_________________________________________________________________\n",
      " Layer (type)                Output Shape              Param #   \n",
      "=================================================================\n",
      " input_1 (InputLayer)        [(None, 35)]              0         \n",
      "                                                                 \n",
      " dense_3 (Dense)             (None, 128)               4608      \n",
      "                                                                 \n",
      " dense_4 (Dense)             (None, 128)               16512     \n",
      "                                                                 \n",
      " dense_5 (Dense)             (None, 6)                 774       \n",
      "                                                                 \n",
      "=================================================================\n",
      "Total params: 21,894\n",
      "Trainable params: 21,894\n",
      "Non-trainable params: 0\n",
      "_________________________________________________________________\n"
     ]
    }
   ],
   "source": [
    "# Functional API analogue\n",
    "#from keras.layers import Input, Dense\n",
    "#from keras.models import Model\n",
    "\n",
    "inputs = layers.Input(shape=(X.shape[1],))\n",
    "layer1 = layers.Dense(nb_units,  activation='relu', #activation function\n",
    "                kernel_initializer=keras.initializers.he_normal(seed=seed), #initialisation of weights, \n",
    "                bias_initializer='zeros')(inputs)\n",
    "layer2 = layers.Dense(nb_units,activation='relu',kernel_initializer=keras.initializers.he_normal(seed=seed),bias_initializer='zeros')(layer1)\n",
    "predictions = layers.Dense(nb_classes, activation='softmax')(layer2)\n",
    "\n",
    "model = keras.Model(inputs=inputs, outputs=predictions)\n",
    "model.summary()"
   ]
  },
  {
   "cell_type": "markdown",
   "metadata": {},
   "source": [
    "Wonderful, we have set up the infrastructure and can proceed with training\n",
    "Most of the parameters that define the training process are set within the **compile** and **fit** methods.\n",
    "\n",
    "The parameter optimization strategy is one of the most important choices for the training of the neural network.\n",
    "\n",
    "We have already learned about one - stochastic gradient descent, it is considered the basic one. Improved performance can be achieved by using optimizers like **Rmsprop, Adagrad,  Adam**, etc."
   ]
  },
  {
   "cell_type": "markdown",
   "metadata": {},
   "source": [
    "### 5+6: loss function, learning rate and optimizer\n",
    "As discussed before, the loss function is defined by the task (mse, binary cross-entropy, etc.), in our case it is cross-entropy.\n",
    "Learning rate is set in the optimizer but does not have to remain the same throughout the training (i.e. AdaGrad)."
   ]
  },
  {
   "cell_type": "code",
   "execution_count": 10,
   "metadata": {},
   "outputs": [],
   "source": [
    "# We use SGD as optimizer and cover more options later on\n",
    "opt = keras.optimizers.SGD(learning_rate=0.1) # there are many more parameters that we could be adding here\n",
    "\n",
    "# Calling compile and specifying some mandatory arguments completes setting up the NN\n",
    "model.compile(optimizer=opt, loss='categorical_crossentropy', metrics=['accuracy'])"
   ]
  },
  {
   "cell_type": "markdown",
   "metadata": {},
   "source": [
    "### 7+8: batch size and epochs ###\n",
    "The batch size determines how many examples you look at before making a weight update. Put differently, we approximate the gradient of the loss function with respect to the weights based on the error signal from considering *batch size* data points. The lower the batch size, the noisier the training signal is going to be, the higher it is, the longer it will take to compute the gradient for each weight update.\n",
    "\n",
    "Epochs is the number of rounds the algorithm will go through the entire dataset. Usually the more epochs of training, the better are the results, until the network starts to overfit. When you see the results flattening out, it's the time to stop."
   ]
  },
  {
   "cell_type": "code",
   "execution_count": 11,
   "metadata": {},
   "outputs": [
    {
     "name": "stdout",
     "output_type": "stream",
     "text": [
      "Epoch 1/30\n",
      "90/90 [==============================] - 1s 4ms/step - loss: 1.0031 - accuracy: 0.6927 - val_loss: 0.9720 - val_accuracy: 0.6991\n",
      "Epoch 2/30\n",
      "90/90 [==============================] - 0s 2ms/step - loss: 0.9532 - accuracy: 0.7028 - val_loss: 0.9660 - val_accuracy: 0.6972\n",
      "Epoch 3/30\n",
      "90/90 [==============================] - 0s 2ms/step - loss: 0.9366 - accuracy: 0.7072 - val_loss: 0.9440 - val_accuracy: 0.7051\n",
      "Epoch 4/30\n",
      "90/90 [==============================] - 0s 2ms/step - loss: 0.9248 - accuracy: 0.7072 - val_loss: 0.9451 - val_accuracy: 0.7032\n",
      "Epoch 5/30\n",
      "90/90 [==============================] - 0s 2ms/step - loss: 0.9103 - accuracy: 0.7078 - val_loss: 0.9402 - val_accuracy: 0.7074\n",
      "Epoch 6/30\n",
      "90/90 [==============================] - 0s 2ms/step - loss: 0.9055 - accuracy: 0.7101 - val_loss: 0.9406 - val_accuracy: 0.7037\n",
      "Epoch 7/30\n",
      "90/90 [==============================] - 0s 2ms/step - loss: 0.8974 - accuracy: 0.7105 - val_loss: 0.9308 - val_accuracy: 0.7079\n",
      "Epoch 8/30\n",
      "90/90 [==============================] - 0s 2ms/step - loss: 0.8874 - accuracy: 0.7109 - val_loss: 0.9220 - val_accuracy: 0.7069\n",
      "Epoch 9/30\n",
      "90/90 [==============================] - 0s 2ms/step - loss: 0.8876 - accuracy: 0.7151 - val_loss: 0.9259 - val_accuracy: 0.7019\n",
      "Epoch 10/30\n",
      "90/90 [==============================] - 0s 2ms/step - loss: 0.8770 - accuracy: 0.7155 - val_loss: 0.9212 - val_accuracy: 0.7051\n",
      "Epoch 11/30\n",
      "90/90 [==============================] - 0s 2ms/step - loss: 0.8722 - accuracy: 0.7135 - val_loss: 0.9220 - val_accuracy: 0.7079\n",
      "Epoch 12/30\n",
      "90/90 [==============================] - 0s 2ms/step - loss: 0.8636 - accuracy: 0.7155 - val_loss: 0.9155 - val_accuracy: 0.7106\n",
      "Epoch 13/30\n",
      "90/90 [==============================] - 0s 2ms/step - loss: 0.8576 - accuracy: 0.7171 - val_loss: 0.9298 - val_accuracy: 0.7106\n",
      "Epoch 14/30\n",
      "90/90 [==============================] - 0s 2ms/step - loss: 0.8566 - accuracy: 0.7205 - val_loss: 0.9227 - val_accuracy: 0.7051\n",
      "Epoch 15/30\n",
      "90/90 [==============================] - 0s 2ms/step - loss: 0.8527 - accuracy: 0.7181 - val_loss: 0.9125 - val_accuracy: 0.7065\n",
      "Epoch 16/30\n",
      "90/90 [==============================] - 0s 2ms/step - loss: 0.8479 - accuracy: 0.7185 - val_loss: 0.9145 - val_accuracy: 0.7130\n",
      "Epoch 17/30\n",
      "90/90 [==============================] - 0s 2ms/step - loss: 0.8468 - accuracy: 0.7171 - val_loss: 0.9135 - val_accuracy: 0.7088\n",
      "Epoch 18/30\n",
      "90/90 [==============================] - 0s 2ms/step - loss: 0.8361 - accuracy: 0.7223 - val_loss: 0.9141 - val_accuracy: 0.7144\n",
      "Epoch 19/30\n",
      "90/90 [==============================] - 0s 2ms/step - loss: 0.8369 - accuracy: 0.7213 - val_loss: 0.9250 - val_accuracy: 0.7065\n",
      "Epoch 20/30\n",
      "90/90 [==============================] - 0s 2ms/step - loss: 0.8304 - accuracy: 0.7254 - val_loss: 0.9331 - val_accuracy: 0.6963\n",
      "Epoch 21/30\n",
      "90/90 [==============================] - 0s 2ms/step - loss: 0.8314 - accuracy: 0.7225 - val_loss: 0.9197 - val_accuracy: 0.7139\n",
      "Epoch 22/30\n",
      "90/90 [==============================] - 0s 2ms/step - loss: 0.8222 - accuracy: 0.7266 - val_loss: 0.9498 - val_accuracy: 0.6815\n",
      "Epoch 23/30\n",
      "90/90 [==============================] - 0s 2ms/step - loss: 0.8238 - accuracy: 0.7238 - val_loss: 0.9321 - val_accuracy: 0.7120\n",
      "Epoch 24/30\n",
      "90/90 [==============================] - 0s 2ms/step - loss: 0.8198 - accuracy: 0.7242 - val_loss: 0.9437 - val_accuracy: 0.6889\n",
      "Epoch 25/30\n",
      "90/90 [==============================] - 0s 2ms/step - loss: 0.8144 - accuracy: 0.7252 - val_loss: 0.9206 - val_accuracy: 0.7102\n",
      "Epoch 26/30\n",
      "90/90 [==============================] - 0s 3ms/step - loss: 0.8138 - accuracy: 0.7258 - val_loss: 0.9412 - val_accuracy: 0.7134\n",
      "Epoch 27/30\n",
      "90/90 [==============================] - 0s 2ms/step - loss: 0.8108 - accuracy: 0.7304 - val_loss: 0.9349 - val_accuracy: 0.7083\n",
      "Epoch 28/30\n",
      "90/90 [==============================] - 0s 2ms/step - loss: 0.8105 - accuracy: 0.7240 - val_loss: 0.9194 - val_accuracy: 0.7139\n",
      "Epoch 29/30\n",
      "90/90 [==============================] - 0s 2ms/step - loss: 0.8042 - accuracy: 0.7288 - val_loss: 0.9451 - val_accuracy: 0.6935\n",
      "Epoch 30/30\n",
      "90/90 [==============================] - 0s 2ms/step - loss: 0.7995 - accuracy: 0.7282 - val_loss: 0.9356 - val_accuracy: 0.7120\n"
     ]
    }
   ],
   "source": [
    "batch_size = 56 #1 for online SGD\n",
    "epochs = 30\n",
    "\n",
    "#And now we fit the model (that is the training part), mind that saving it to the \n",
    "# variable will help you retrieve and analyse the training history\n",
    "story = model.fit(X_train, y_train,\n",
    "                    batch_size=batch_size,\n",
    "                    epochs=epochs,\n",
    "                    verbose=1,\n",
    "                    validation_data=(X_test, y_test) #OR validation_split=0.3\n",
    "                 ) "
   ]
  },
  {
   "cell_type": "markdown",
   "metadata": {},
   "source": [
    "The output already provides a lot of information on how well our model performs and whether is shows tendencies of overfitting. You can also obtain such insight explicitly after the model has trained. For example, you can use *evaluate()* to compute model performance. "
   ]
  },
  {
   "cell_type": "code",
   "execution_count": 12,
   "metadata": {},
   "outputs": [
    {
     "name": "stdout",
     "output_type": "stream",
     "text": [
      "Test loss: 0.9356139898300171\n",
      "Test accuracy: 0.7120370268821716\n"
     ]
    }
   ],
   "source": [
    "score = model.evaluate(X_test, y_test, verbose=0)\n",
    "print('Test loss:', score[0])\n",
    "print('Test accuracy:', score[1])"
   ]
  },
  {
   "cell_type": "markdown",
   "metadata": {},
   "source": [
    "The metrics that *evaluate()* gives us depend on the input argument *metrics* that we used when setting up our NN. Keras knows several other metrics (see [Keras doc. for details](https://keras.io/metrics/)) but not all known metrics are supported for training the NN. Between, you can also extend the set of metrics with customer metrics (see this [example](https://machinelearningmastery.com/custom-metrics-deep-learning-keras-python/) if interested.).\n",
    "\n",
    "We also have access to model performance results via the result of *model.fit()*, that is our variable *story*."
   ]
  },
  {
   "cell_type": "code",
   "execution_count": 13,
   "metadata": {},
   "outputs": [
    {
     "data": {
      "text/plain": [
       "dict_keys(['loss', 'accuracy', 'val_loss', 'val_accuracy'])"
      ]
     },
     "execution_count": 13,
     "metadata": {},
     "output_type": "execute_result"
    }
   ],
   "source": [
    "story.history.keys()"
   ]
  },
  {
   "cell_type": "markdown",
   "metadata": {},
   "source": [
    "It is good practice to define custom functions to diagnose model performance and display results as needed. Here are some examples."
   ]
  },
  {
   "cell_type": "code",
   "execution_count": 14,
   "metadata": {},
   "outputs": [
    {
     "data": {
      "image/png": "[encoded data removed]",
      "text/plain": [
       "<Figure size 432x288 with 1 Axes>"
      ]
     },
     "metadata": {
      "needs_background": "light"
     },
     "output_type": "display_data"
    }
   ],
   "source": [
    "def show_history(story):\n",
    "    plt.plot(story.history['accuracy'])\n",
    "    plt.plot(story.history['val_accuracy'])\n",
    "    plt.ylabel('accuracy')\n",
    "    plt.xlabel('epoch')\n",
    "    plt.legend(['train_accuracy', 'test_accuracy'], loc='best')\n",
    "    plt.show()\n",
    "\n",
    "show_history(story)"
   ]
  },
  {
   "cell_type": "code",
   "execution_count": 107,
   "metadata": {},
   "outputs": [
    {
     "data": {
      "image/png": "[encoded data removed]",
      "text/plain": [
       "<Figure size 1332x756 with 2 Axes>"
      ]
     },
     "metadata": {
      "needs_background": "light"
     },
     "output_type": "display_data"
    }
   ],
   "source": [
    "def show_history(story):\n",
    "    fig, (ax1, ax2) = plt.subplots(1, 2)\n",
    "    fig.set_size_inches(18.5, 10.5)\n",
    "    ax1.plot(story.history['accuracy'])\n",
    "    ax1.plot(story.history['val_accuracy'])\n",
    "    ax1.set(xlabel='epoch', ylabel='accuracy')\n",
    "    ax1.legend(['train_accuracy', 'test_accuracy'], loc='best')\n",
    "    ax1.set_title('Accuracy evolution during NN training')\n",
    "    \n",
    "    ax2.plot(story.history['loss'])\n",
    "    ax2.plot(story.history['val_loss'])\n",
    "    ax2.set(xlabel='epoch', ylabel='loss')\n",
    "    ax2.legend(['train_loss', 'test_loss'], loc='best')\n",
    "    ax2.set_title('Loss evolution during NN training')\n",
    "    plt.show()\n",
    "\n",
    "show_history(story)\n"
   ]
  },
  {
   "cell_type": "markdown",
   "metadata": {},
   "source": [
    "To get more insight and benefit from the full stack of performance measures that you know, we can simply calculate test set predictions explicitly and then proceed with these in the usual way, producing ROC curves, confusion tables, and the like."
   ]
  },
  {
   "cell_type": "code",
   "execution_count": 15,
   "metadata": {},
   "outputs": [
    {
     "data": {
      "text/plain": [
       "(2160, 6)"
      ]
     },
     "execution_count": 15,
     "metadata": {},
     "output_type": "execute_result"
    }
   ],
   "source": [
    "# Compute predictions\n",
    "yhat = model.predict(X_test)\n",
    "yhat.shape"
   ]
  },
  {
   "cell_type": "code",
   "execution_count": 16,
   "metadata": {},
   "outputs": [
    {
     "name": "stdout",
     "output_type": "stream",
     "text": [
      "[4 4 0 ... 4 4 4]\n"
     ]
    }
   ],
   "source": [
    "# Finding the most probable class\n",
    "yhat_c = np.argmax(yhat, axis=1)\n",
    "print(yhat_c)"
   ]
  },
  {
   "cell_type": "code",
   "execution_count": 17,
   "metadata": {},
   "outputs": [
    {
     "name": "stdout",
     "output_type": "stream",
     "text": [
      "\n",
      "Clasification report:\n",
      "               precision    recall  f1-score   support\n",
      "\n",
      "     Grade 0       0.56      0.25      0.35       268\n",
      "     Grade 1       0.00      0.00      0.00        15\n",
      "     Grade 2       0.17      0.02      0.03       105\n",
      "     Grade 3       0.00      0.00      0.00       116\n",
      "     Grade 4       0.73      0.97      0.83      1506\n",
      "     Grade 5       0.00      0.00      0.00       150\n",
      "\n",
      "    accuracy                           0.71      2160\n",
      "   macro avg       0.24      0.21      0.20      2160\n",
      "weighted avg       0.58      0.71      0.63      2160\n",
      "\n"
     ]
    }
   ],
   "source": [
    "from sklearn.metrics import classification_report\n",
    "target_names = [\"Grade 0\",\"Grade 1\",\"Grade 2\",\"Grade 3\",\"Grade 4\",\"Grade 5\"]\n",
    "true_label = np.argmax(y_test,axis = 1)\n",
    "print ('\\nClasification report:\\n', classification_report(true_label, yhat_c, target_names=target_names, zero_division=0))"
   ]
  },
  {
   "cell_type": "code",
   "execution_count": 18,
   "metadata": {},
   "outputs": [
    {
     "name": "stdout",
     "output_type": "stream",
     "text": [
      "\n",
      "Confusion matrix:\n",
      " [[  68    0    2    3  195    0]\n",
      " [   2    0    0    0   13    0]\n",
      " [  11    0    2    2   90    0]\n",
      " [   5    0    2    0  109    0]\n",
      " [  28    0    6    4 1468    0]\n",
      " [   8    0    0    1  141    0]]\n"
     ]
    }
   ],
   "source": [
    "from sklearn.metrics import confusion_matrix\n",
    "print ('\\nConfusion matrix:\\n', confusion_matrix(true_label, yhat_c))"
   ]
  },
  {
   "cell_type": "markdown",
   "metadata": {},
   "source": [
    "### 9: dropout\n",
    "Dropout 'impedes' the model and can be used against overfitting. It randomly sets a fraction rate of input units to 0 at each update during training time, which is a manner of regularization. Let's add up the Dropout rates after the hidden layers.\n",
    "\n"
   ]
  },
  {
   "cell_type": "code",
   "execution_count": 19,
   "metadata": {},
   "outputs": [
    {
     "name": "stdout",
     "output_type": "stream",
     "text": [
      "Model: \"sequential_1\"\n",
      "_________________________________________________________________\n",
      " Layer (type)                Output Shape              Param #   \n",
      "=================================================================\n",
      " dense_6 (Dense)             (None, 128)               4608      \n",
      "                                                                 \n",
      " dropout (Dropout)           (None, 128)               0         \n",
      "                                                                 \n",
      " dense_7 (Dense)             (None, 128)               16512     \n",
      "                                                                 \n",
      " dropout_1 (Dropout)         (None, 128)               0         \n",
      "                                                                 \n",
      " dense_8 (Dense)             (None, 6)                 774       \n",
      "                                                                 \n",
      "=================================================================\n",
      "Total params: 21,894\n",
      "Trainable params: 21,894\n",
      "Non-trainable params: 0\n",
      "_________________________________________________________________\n"
     ]
    }
   ],
   "source": [
    "#Let's add dropout layers to our model (we can leave the bias setting to default this time)\n",
    "model = keras.Sequential()\n",
    "model.add(layers.Dense(nb_units, activation='relu',bias_initializer='zeros',kernel_initializer=keras.initializers.he_normal(seed=seed),  input_shape=(35,)))\n",
    "model.add(layers.Dropout(0.1))\n",
    "\n",
    "model.add(layers.Dense(nb_units, activation='relu',bias_initializer='zeros',kernel_initializer=keras.initializers.he_normal(seed=seed)))\n",
    "model.add(layers.Dropout(0.1))\n",
    "model.add(layers.Dense(nb_classes, activation='softmax',kernel_initializer=keras.initializers.he_normal(seed=seed)))\n",
    "\n",
    "model.summary()\n",
    "\n",
    "model.compile(optimizer=opt, loss='categorical_crossentropy', metrics=['accuracy']) #nothing changes here"
   ]
  },
  {
   "cell_type": "code",
   "execution_count": 20,
   "metadata": {},
   "outputs": [
    {
     "name": "stdout",
     "output_type": "stream",
     "text": [
      "Epoch 1/30\n",
      "90/90 [==============================] - 1s 3ms/step - loss: 1.0296 - accuracy: 0.6837 - val_loss: 0.9720 - val_accuracy: 0.6958\n",
      "Epoch 2/30\n",
      "90/90 [==============================] - 0s 2ms/step - loss: 0.9697 - accuracy: 0.6974 - val_loss: 0.9512 - val_accuracy: 0.7037\n",
      "Epoch 3/30\n",
      "90/90 [==============================] - 0s 2ms/step - loss: 0.9525 - accuracy: 0.7010 - val_loss: 0.9428 - val_accuracy: 0.7065\n",
      "Epoch 4/30\n",
      "90/90 [==============================] - 0s 2ms/step - loss: 0.9453 - accuracy: 0.7036 - val_loss: 0.9520 - val_accuracy: 0.7065\n",
      "Epoch 5/30\n",
      "90/90 [==============================] - 0s 2ms/step - loss: 0.9392 - accuracy: 0.7020 - val_loss: 0.9337 - val_accuracy: 0.7088\n",
      "Epoch 6/30\n",
      "90/90 [==============================] - 0s 2ms/step - loss: 0.9300 - accuracy: 0.7060 - val_loss: 0.9276 - val_accuracy: 0.7079\n",
      "Epoch 7/30\n",
      "90/90 [==============================] - 0s 2ms/step - loss: 0.9203 - accuracy: 0.7084 - val_loss: 0.9257 - val_accuracy: 0.7065\n",
      "Epoch 8/30\n",
      "90/90 [==============================] - 0s 2ms/step - loss: 0.9167 - accuracy: 0.7113 - val_loss: 0.9220 - val_accuracy: 0.7144\n",
      "Epoch 9/30\n",
      "90/90 [==============================] - 0s 2ms/step - loss: 0.9136 - accuracy: 0.7109 - val_loss: 0.9241 - val_accuracy: 0.7060\n",
      "Epoch 10/30\n",
      "90/90 [==============================] - 0s 2ms/step - loss: 0.9087 - accuracy: 0.7074 - val_loss: 0.9167 - val_accuracy: 0.7106\n",
      "Epoch 11/30\n",
      "90/90 [==============================] - 0s 2ms/step - loss: 0.9053 - accuracy: 0.7092 - val_loss: 0.9209 - val_accuracy: 0.7079\n",
      "Epoch 12/30\n",
      "90/90 [==============================] - 0s 2ms/step - loss: 0.9021 - accuracy: 0.7092 - val_loss: 0.9137 - val_accuracy: 0.7116\n",
      "Epoch 13/30\n",
      "90/90 [==============================] - 0s 2ms/step - loss: 0.8913 - accuracy: 0.7095 - val_loss: 0.9145 - val_accuracy: 0.7083\n",
      "Epoch 14/30\n",
      "90/90 [==============================] - 0s 2ms/step - loss: 0.8859 - accuracy: 0.7119 - val_loss: 0.9088 - val_accuracy: 0.7153\n",
      "Epoch 15/30\n",
      "90/90 [==============================] - 0s 2ms/step - loss: 0.8826 - accuracy: 0.7107 - val_loss: 0.9139 - val_accuracy: 0.7139\n",
      "Epoch 16/30\n",
      "90/90 [==============================] - 0s 2ms/step - loss: 0.8839 - accuracy: 0.7131 - val_loss: 0.9106 - val_accuracy: 0.7144\n",
      "Epoch 17/30\n",
      "90/90 [==============================] - 0s 2ms/step - loss: 0.8854 - accuracy: 0.7078 - val_loss: 0.9114 - val_accuracy: 0.7120\n",
      "Epoch 18/30\n",
      "90/90 [==============================] - 0s 2ms/step - loss: 0.8740 - accuracy: 0.7125 - val_loss: 0.9093 - val_accuracy: 0.7134\n",
      "Epoch 19/30\n",
      "90/90 [==============================] - 0s 2ms/step - loss: 0.8782 - accuracy: 0.7131 - val_loss: 0.9134 - val_accuracy: 0.7134\n",
      "Epoch 20/30\n",
      "90/90 [==============================] - 0s 2ms/step - loss: 0.8724 - accuracy: 0.7147 - val_loss: 0.9078 - val_accuracy: 0.7148\n",
      "Epoch 21/30\n",
      "90/90 [==============================] - 0s 2ms/step - loss: 0.8717 - accuracy: 0.7115 - val_loss: 0.9062 - val_accuracy: 0.7162\n",
      "Epoch 22/30\n",
      "90/90 [==============================] - 0s 2ms/step - loss: 0.8624 - accuracy: 0.7191 - val_loss: 0.9129 - val_accuracy: 0.7120\n",
      "Epoch 23/30\n",
      "90/90 [==============================] - 0s 2ms/step - loss: 0.8674 - accuracy: 0.7149 - val_loss: 0.9145 - val_accuracy: 0.7111\n",
      "Epoch 24/30\n",
      "90/90 [==============================] - 0s 2ms/step - loss: 0.8654 - accuracy: 0.7141 - val_loss: 0.9103 - val_accuracy: 0.7116\n",
      "Epoch 25/30\n",
      "90/90 [==============================] - 0s 2ms/step - loss: 0.8588 - accuracy: 0.7143 - val_loss: 0.9108 - val_accuracy: 0.7116\n",
      "Epoch 26/30\n",
      "90/90 [==============================] - 0s 2ms/step - loss: 0.8582 - accuracy: 0.7173 - val_loss: 0.9078 - val_accuracy: 0.7148\n",
      "Epoch 27/30\n",
      "90/90 [==============================] - 0s 2ms/step - loss: 0.8530 - accuracy: 0.7187 - val_loss: 0.9084 - val_accuracy: 0.7134\n",
      "Epoch 28/30\n",
      "90/90 [==============================] - 0s 2ms/step - loss: 0.8525 - accuracy: 0.7207 - val_loss: 0.9062 - val_accuracy: 0.7157\n",
      "Epoch 29/30\n",
      "90/90 [==============================] - 0s 2ms/step - loss: 0.8494 - accuracy: 0.7157 - val_loss: 0.9118 - val_accuracy: 0.7148\n",
      "Epoch 30/30\n",
      "90/90 [==============================] - 0s 2ms/step - loss: 0.8485 - accuracy: 0.7193 - val_loss: 0.9131 - val_accuracy: 0.7125\n"
     ]
    },
    {
     "data": {
      "image/png": "[encoded data removed]",
      "text/plain": [
       "<Figure size 432x288 with 1 Axes>"
      ]
     },
     "metadata": {
      "needs_background": "light"
     },
     "output_type": "display_data"
    },
    {
     "name": "stdout",
     "output_type": "stream",
     "text": [
      "Test loss: 0.9131245017051697\n",
      "Test accuracy: 0.7124999761581421\n"
     ]
    }
   ],
   "source": [
    "story = model.fit(X_train, y_train, \n",
    "                    batch_size=batch_size,\n",
    "                    epochs=epochs,\n",
    "                    verbose=1,\n",
    "                    validation_data=(X_test, y_test))#there is a better solution to it\n",
    "score = model.evaluate(X_test, y_test, verbose=0)\n",
    "show_history(story)\n",
    "print('Test loss:', score[0])\n",
    "print('Test accuracy:', score[1])"
   ]
  },
  {
   "cell_type": "markdown",
   "metadata": {},
   "source": [
    "### more on optimizers\n",
    "\n",
    "So far we have mainly been looking at the SGD as our optimization algorithm, but there are many more: Adam, RMSprop, Adagrad, etc. (some more info here http://ruder.io/optimizing-gradient-descent/). Like other tools they all have their strengths and weaknesses. We will look more into Adam:"
   ]
  },
  {
   "cell_type": "code",
   "execution_count": 21,
   "metadata": {},
   "outputs": [
    {
     "name": "stdout",
     "output_type": "stream",
     "text": [
      "Model: \"sequential_2\"\n",
      "_________________________________________________________________\n",
      " Layer (type)                Output Shape              Param #   \n",
      "=================================================================\n",
      " dense_9 (Dense)             (None, 128)               4608      \n",
      "                                                                 \n",
      " dropout_2 (Dropout)         (None, 128)               0         \n",
      "                                                                 \n",
      " dense_10 (Dense)            (None, 128)               16512     \n",
      "                                                                 \n",
      " dropout_3 (Dropout)         (None, 128)               0         \n",
      "                                                                 \n",
      " dense_11 (Dense)            (None, 6)                 774       \n",
      "                                                                 \n",
      "=================================================================\n",
      "Total params: 21,894\n",
      "Trainable params: 21,894\n",
      "Non-trainable params: 0\n",
      "_________________________________________________________________\n"
     ]
    }
   ],
   "source": [
    "model = keras.Sequential()\n",
    "model.add(layers.Dense(nb_units, activation='relu',bias_initializer='zeros',kernel_initializer=keras.initializers.he_normal(seed=seed), input_shape=(35,)))\n",
    "model.add(layers.Dropout(0.1))\n",
    "model.add(layers.Dense(nb_units, activation='relu',bias_initializer='zeros',kernel_initializer=keras.initializers.he_normal(seed=seed)))\n",
    "model.add(layers.Dropout(0.1))\n",
    "model.add(layers.Dense(nb_classes, activation='softmax'))\n",
    "\n",
    "model.summary()\n",
    "\n",
    "model.compile(loss='categorical_crossentropy',\n",
    "              optimizer=keras.optimizers.Adam(learning_rate=0.05),\n",
    "              metrics=['accuracy'])\n",
    "\n",
    "story = model.fit(X_train, y_train,\n",
    "                    batch_size=batch_size,\n",
    "                    epochs=60,\n",
    "                    verbose=0,\n",
    "                    validation_data=(X_test, y_test))\n",
    "score = model.evaluate(X_test, y_test, verbose=0)\n"
   ]
  },
  {
   "cell_type": "code",
   "execution_count": 22,
   "metadata": {},
   "outputs": [
    {
     "data": {
      "image/png": "[encoded data removed]",
      "text/plain": [
       "<Figure size 432x288 with 1 Axes>"
      ]
     },
     "metadata": {
      "needs_background": "light"
     },
     "output_type": "display_data"
    },
    {
     "name": "stdout",
     "output_type": "stream",
     "text": [
      "Test loss: 0.9796446561813354\n",
      "Test accuracy: 0.7097222208976746\n"
     ]
    }
   ],
   "source": [
    "show_history(story)\n",
    "print('Test loss:', score[0])\n",
    "print('Test accuracy:', score[1])"
   ]
  },
  {
   "cell_type": "markdown",
   "metadata": {},
   "source": [
    "### 10: momentum and learning rate"
   ]
  },
  {
   "cell_type": "markdown",
   "metadata": {},
   "source": [
    "\n",
    "Learning rate has been overlooked for a while but currently a lot of research is looking into it.\n",
    "Lower LR takes more time but allows better allocation of local minimum, higher LR allows faster calculations but drastic jumps do not always yield good results. However, learning rate doesn't have to be remained constant. We will try different learning rate schedules for our NN.\n",
    "\n",
    "The SGD optimization algorithm in Keras has an argument called **decay**. This argument is used in the time-based learning rate decay schedule equation as follows:\n",
    "LearningRate = LearningRate * 1/(1 + decay * epoch) (if decay=0 then there is no change)\n",
    "\n",
    "Another term to know is **momentum**. Use a large momentum. Using a larger momentum value will help the optimization algorithm to continue to make updates in the right direction when your learning rate shrinks to small values.\n",
    "\n",
    "$$\\Delta  W_k(i) = -\\eta  \\frac{\\partial E}{\\partial W_k} + \\mu  \\Delta W_k(i-1)$$\n",
    "\n",
    "\n",
    "$\\mu$ is a momentum term here. Imagine if at some point gradient is zero, it would put the backpropagation to stall. Here momentum comes to the rescue - the algorithm remembers its last step, and adds some proportion of it to the current step. This way, even if the algorithm is stuck in a flat region, or a small local minimum, it can get out and continue towards the global minimum. So learning rate measures how much the current situation affects the next step, while momentum measures how much past steps affect the next step. \n",
    "\n"
   ]
  },
  {
   "cell_type": "code",
   "execution_count": 23,
   "metadata": {},
   "outputs": [],
   "source": [
    "model = keras.Sequential()\n",
    "model.add(layers.Dense(nb_units, activation='relu',bias_initializer='zeros',kernel_initializer=keras.initializers.he_normal(seed=seed), input_shape=(35,)))\n",
    "model.add(layers.Dropout(0.1))\n",
    "model.add(layers.Dense(nb_units, activation='relu',bias_initializer='zeros',kernel_initializer=keras.initializers.he_normal(seed=seed)))\n",
    "model.add(layers.Dropout(0.1))\n",
    "model.add(layers.Dense(nb_classes, activation='softmax'))\n",
    "# Compile model\n",
    "learning_rate = 0.01\n",
    "decay_rate = learning_rate / epochs\n",
    "momentum = 0.8\n",
    "\n",
    "sgd = keras.optimizers.SGD(learning_rate=learning_rate, decay=decay_rate, nesterov=False, momentum=momentum)\n",
    "model.compile(loss='categorical_crossentropy', optimizer=sgd, metrics=['accuracy'])\n",
    "# Fit the model\n",
    "story = model.fit(X_train, y_train, #name model differently\n",
    "                    batch_size=56,\n",
    "                    epochs=epochs*2,\n",
    "                    verbose=0,\n",
    "                 validation_data=(X_test, y_test))\n",
    "score = model.evaluate(X_test, y_test, verbose=0)"
   ]
  },
  {
   "cell_type": "code",
   "execution_count": 24,
   "metadata": {},
   "outputs": [
    {
     "name": "stdout",
     "output_type": "stream",
     "text": [
      "Test loss: 0.9159897565841675\n",
      "Test accuracy: 0.7143518328666687\n"
     ]
    },
    {
     "data": {
      "image/png": "[encoded data removed]",
      "text/plain": [
       "<Figure size 432x288 with 1 Axes>"
      ]
     },
     "metadata": {
      "needs_background": "light"
     },
     "output_type": "display_data"
    }
   ],
   "source": [
    "print('Test loss:', score[0])\n",
    "print('Test accuracy:', score[1])\n",
    "show_history(story)"
   ]
  },
  {
   "cell_type": "markdown",
   "metadata": {},
   "source": [
    "## Early stopping"
   ]
  },
  {
   "cell_type": "code",
   "execution_count": 25,
   "metadata": {},
   "outputs": [
    {
     "name": "stdout",
     "output_type": "stream",
     "text": [
      "Epoch 1/30\n",
      "90/90 [==============================] - 0s 2ms/step - loss: 0.8657 - accuracy: 0.7157 - val_loss: 0.9185 - val_accuracy: 0.7102\n",
      "Epoch 2/30\n",
      "90/90 [==============================] - 0s 2ms/step - loss: 0.8629 - accuracy: 0.7133 - val_loss: 0.9156 - val_accuracy: 0.7134\n",
      "Epoch 3/30\n",
      "90/90 [==============================] - 0s 2ms/step - loss: 0.8617 - accuracy: 0.7149 - val_loss: 0.9154 - val_accuracy: 0.7134\n",
      "Epoch 4/30\n",
      "90/90 [==============================] - 0s 2ms/step - loss: 0.8675 - accuracy: 0.7157 - val_loss: 0.9163 - val_accuracy: 0.7120\n",
      "Epoch 5/30\n",
      "90/90 [==============================] - 0s 2ms/step - loss: 0.8648 - accuracy: 0.7155 - val_loss: 0.9157 - val_accuracy: 0.7125\n",
      "Epoch 6/30\n",
      "90/90 [==============================] - 0s 2ms/step - loss: 0.8616 - accuracy: 0.7119 - val_loss: 0.9157 - val_accuracy: 0.7125\n",
      "Epoch 7/30\n",
      "90/90 [==============================] - 0s 2ms/step - loss: 0.8611 - accuracy: 0.7135 - val_loss: 0.9157 - val_accuracy: 0.7134\n",
      "Epoch 8/30\n",
      "90/90 [==============================] - 0s 2ms/step - loss: 0.8613 - accuracy: 0.7139 - val_loss: 0.9166 - val_accuracy: 0.7125\n",
      "Epoch 9/30\n",
      "90/90 [==============================] - 0s 3ms/step - loss: 0.8587 - accuracy: 0.7161 - val_loss: 0.9151 - val_accuracy: 0.7144\n",
      "Epoch 10/30\n",
      "90/90 [==============================] - 0s 2ms/step - loss: 0.8600 - accuracy: 0.7173 - val_loss: 0.9157 - val_accuracy: 0.7120\n",
      "Epoch 11/30\n",
      "90/90 [==============================] - 0s 2ms/step - loss: 0.8581 - accuracy: 0.7167 - val_loss: 0.9158 - val_accuracy: 0.7139\n"
     ]
    }
   ],
   "source": [
    "from keras.callbacks import EarlyStopping\n",
    "cb=EarlyStopping(monitor='val_loss', min_delta=0.1, verbose=0, patience=10, restore_best_weights=True) #difference of loss is below min_delta, it is quantified as no improvement\n",
    "story = model.fit(X_train, y_train, #name model differently\n",
    "                    batch_size=batch_size,\n",
    "                    epochs=epochs,\n",
    "                    verbose=1,\n",
    "                    validation_data=(X_test, y_test),\n",
    "                    callbacks=[cb])\n",
    "score = model.evaluate(X_test, y_test, verbose=0)"
   ]
  },
  {
   "cell_type": "code",
   "execution_count": 26,
   "metadata": {},
   "outputs": [
    {
     "name": "stdout",
     "output_type": "stream",
     "text": [
      "Test loss: 0.9184663891792297\n",
      "Test accuracy: 0.710185170173645\n"
     ]
    },
    {
     "data": {
      "image/png": "[encoded data removed]",
      "text/plain": [
       "<Figure size 432x288 with 1 Axes>"
      ]
     },
     "metadata": {
      "needs_background": "light"
     },
     "output_type": "display_data"
    }
   ],
   "source": [
    "print('Test loss:', score[0])\n",
    "print('Test accuracy:', score[1])\n",
    "show_history(story)"
   ]
  },
  {
   "cell_type": "code",
   "execution_count": null,
   "metadata": {},
   "outputs": [],
   "source": []
  }
 ],
 "metadata": {
  "kernelspec": {
   "display_name": "Python 3.9.0 64-bit",
   "language": "python",
   "name": "python3"
  },
  "language_info": {
   "codemirror_mode": {
    "name": "ipython",
    "version": 3
   },
   "file_extension": ".py",
   "mimetype": "text/x-python",
   "name": "python",
   "nbconvert_exporter": "python",
   "pygments_lexer": "ipython3",
   "version": "3.9.0"
  },
  "pycharm": {
   "stem_cell": {
    "cell_type": "raw",
    "metadata": {
     "collapsed": false
    },
    "source": []
   }
  },
  "vscode": {
   "interpreter": {
    "hash": "aee8b7b246df8f9039afb4144a1f6fd8d2ca17a180786b69acc140d282b71a49"
   }
  }
 },
 "nbformat": 4,
 "nbformat_minor": 4
}
