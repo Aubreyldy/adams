{
 "cells": [
  {
   "cell_type": "markdown",
   "id": "a6b30d65",
   "metadata": {},
   "source": [
    "**Exercise predictive modeling:**<br>\n",
    "In this exercise, you recapitulate the principles of predictive modeling. You will build a predictive model for a travel \n",
    "insurance, which predicts whether a given insurance offer leads to a claim. You can use \"Ex03-Python_Machine_Learning.ipynb\" \n",
    "to lookup on the model building procedure and the required commands in python. \n",
    "\n",
    "In the next cells, we provide the code for importing required packages and for loading the data set (You need to adapt the\n",
    "path to the data.). Afterwards, the exercises begin.  "
   ]
  },
  {
   "cell_type": "code",
   "execution_count": 1,
   "id": "8e42767a",
   "metadata": {},
   "outputs": [],
   "source": [
    "# required packages\n",
    "import pandas as pd\n",
    "import numpy as np\n",
    "from sklearn.model_selection import train_test_split, cross_val_score, KFold\n",
    "from sklearn.model_selection import GridSearchCV, RandomizedSearchCV\n",
    "from sklearn.ensemble import RandomForestRegressor\n",
    "from sklearn.ensemble import RandomForestClassifier\n",
    "from sklearn import metrics\n",
    "from sklearn.inspection import permutation_importance\n",
    "from sklearn.inspection import plot_partial_dependence\n",
    "import os\n",
    "import seaborn as sns\n",
    "import matplotlib.pyplot as plt"
   ]
  },
  {
   "cell_type": "code",
   "execution_count": 2,
   "id": "2b33cc8c",
   "metadata": {},
   "outputs": [],
   "source": [
    "## read data\n",
    "trav_ins = pd.read_csv(\"/Users/aubrey/Documents/GitHub/adams/exercises/travel insurance.csv\",index_col=False,sep=',', encoding='utf-8')"
   ]
  },
  {
   "cell_type": "code",
   "execution_count": 3,
   "id": "a31ec2ed",
   "metadata": {},
   "outputs": [
    {
     "name": "stdout",
     "output_type": "stream",
     "text": [
      "(63326, 11)\n"
     ]
    },
    {
     "data": {
      "text/html": [
       "<div>\n",
       "<style scoped>\n",
       "    .dataframe tbody tr th:only-of-type {\n",
       "        vertical-align: middle;\n",
       "    }\n",
       "\n",
       "    .dataframe tbody tr th {\n",
       "        vertical-align: top;\n",
       "    }\n",
       "\n",
       "    .dataframe thead th {\n",
       "        text-align: right;\n",
       "    }\n",
       "</style>\n",
       "<table border=\"1\" class=\"dataframe\">\n",
       "  <thead>\n",
       "    <tr style=\"text-align: right;\">\n",
       "      <th></th>\n",
       "      <th>Agency</th>\n",
       "      <th>Agency Type</th>\n",
       "      <th>Distribution Channel</th>\n",
       "      <th>Product Name</th>\n",
       "      <th>Claim</th>\n",
       "      <th>Duration</th>\n",
       "      <th>Destination</th>\n",
       "      <th>Net Sales</th>\n",
       "      <th>Commision (in value)</th>\n",
       "      <th>Gender</th>\n",
       "      <th>Age</th>\n",
       "    </tr>\n",
       "  </thead>\n",
       "  <tbody>\n",
       "    <tr>\n",
       "      <th>0</th>\n",
       "      <td>CBH</td>\n",
       "      <td>Travel Agency</td>\n",
       "      <td>Offline</td>\n",
       "      <td>Comprehensive Plan</td>\n",
       "      <td>No</td>\n",
       "      <td>186</td>\n",
       "      <td>MALAYSIA</td>\n",
       "      <td>-29.0</td>\n",
       "      <td>9.57</td>\n",
       "      <td>F</td>\n",
       "      <td>81</td>\n",
       "    </tr>\n",
       "    <tr>\n",
       "      <th>1</th>\n",
       "      <td>CBH</td>\n",
       "      <td>Travel Agency</td>\n",
       "      <td>Offline</td>\n",
       "      <td>Comprehensive Plan</td>\n",
       "      <td>No</td>\n",
       "      <td>186</td>\n",
       "      <td>MALAYSIA</td>\n",
       "      <td>-29.0</td>\n",
       "      <td>9.57</td>\n",
       "      <td>F</td>\n",
       "      <td>71</td>\n",
       "    </tr>\n",
       "    <tr>\n",
       "      <th>2</th>\n",
       "      <td>CWT</td>\n",
       "      <td>Travel Agency</td>\n",
       "      <td>Online</td>\n",
       "      <td>Rental Vehicle Excess Insurance</td>\n",
       "      <td>No</td>\n",
       "      <td>65</td>\n",
       "      <td>AUSTRALIA</td>\n",
       "      <td>-49.5</td>\n",
       "      <td>29.70</td>\n",
       "      <td>NaN</td>\n",
       "      <td>32</td>\n",
       "    </tr>\n",
       "    <tr>\n",
       "      <th>3</th>\n",
       "      <td>CWT</td>\n",
       "      <td>Travel Agency</td>\n",
       "      <td>Online</td>\n",
       "      <td>Rental Vehicle Excess Insurance</td>\n",
       "      <td>No</td>\n",
       "      <td>60</td>\n",
       "      <td>AUSTRALIA</td>\n",
       "      <td>-39.6</td>\n",
       "      <td>23.76</td>\n",
       "      <td>NaN</td>\n",
       "      <td>32</td>\n",
       "    </tr>\n",
       "    <tr>\n",
       "      <th>4</th>\n",
       "      <td>CWT</td>\n",
       "      <td>Travel Agency</td>\n",
       "      <td>Online</td>\n",
       "      <td>Rental Vehicle Excess Insurance</td>\n",
       "      <td>No</td>\n",
       "      <td>79</td>\n",
       "      <td>ITALY</td>\n",
       "      <td>-19.8</td>\n",
       "      <td>11.88</td>\n",
       "      <td>NaN</td>\n",
       "      <td>41</td>\n",
       "    </tr>\n",
       "  </tbody>\n",
       "</table>\n",
       "</div>"
      ],
      "text/plain": [
       "  Agency    Agency Type Distribution Channel                     Product Name  \\\n",
       "0    CBH  Travel Agency              Offline               Comprehensive Plan   \n",
       "1    CBH  Travel Agency              Offline               Comprehensive Plan   \n",
       "2    CWT  Travel Agency               Online  Rental Vehicle Excess Insurance   \n",
       "3    CWT  Travel Agency               Online  Rental Vehicle Excess Insurance   \n",
       "4    CWT  Travel Agency               Online  Rental Vehicle Excess Insurance   \n",
       "\n",
       "  Claim  Duration Destination  Net Sales  Commision (in value) Gender  Age  \n",
       "0    No       186    MALAYSIA      -29.0                  9.57      F   81  \n",
       "1    No       186    MALAYSIA      -29.0                  9.57      F   71  \n",
       "2    No        65   AUSTRALIA      -49.5                 29.70    NaN   32  \n",
       "3    No        60   AUSTRALIA      -39.6                 23.76    NaN   32  \n",
       "4    No        79       ITALY      -19.8                 11.88    NaN   41  "
      ]
     },
     "execution_count": 3,
     "metadata": {},
     "output_type": "execute_result"
    }
   ],
   "source": [
    "## get to know the data\n",
    "print(trav_ins.shape)\n",
    "trav_ins.head()"
   ]
  },
  {
   "cell_type": "markdown",
   "id": "390291cd",
   "metadata": {},
   "source": [
    "**Exercise 1:**<br>\n",
    "Impute missing values with an approach of your own choice."
   ]
  },
  {
   "cell_type": "code",
   "execution_count": 5,
   "id": "b8cc0679",
   "metadata": {},
   "outputs": [
    {
     "name": "stdout",
     "output_type": "stream",
     "text": [
      "Agency                      0\n",
      "Agency Type                 0\n",
      "Distribution Channel        0\n",
      "Product Name                0\n",
      "Claim                       0\n",
      "Duration                    0\n",
      "Destination                 0\n",
      "Net Sales                   0\n",
      "Commision (in value)        0\n",
      "Gender                  45107\n",
      "Age                         0\n",
      "dtype: int64\n"
     ]
    },
    {
     "data": {
      "text/plain": [
       "<AxesSubplot:xlabel='Gender', ylabel='count'>"
      ]
     },
     "execution_count": 5,
     "metadata": {},
     "output_type": "execute_result"
    },
    {
     "data": {
      "image/png": "[encoded data removed]",
      "text/plain": [
       "<Figure size 432x288 with 1 Axes>"
      ]
     },
     "metadata": {
      "needs_background": "light"
     },
     "output_type": "display_data"
    }
   ],
   "source": [
    "print(trav_ins.isnull().sum(axis=0))\n",
    "trav_ins['Gender'] = trav_ins['Gender'].fillna('missing')\n",
    "sns.countplot(x=\"Gender\", data=trav_ins)"
   ]
  },
  {
   "cell_type": "markdown",
   "id": "5b1c22c1",
   "metadata": {},
   "source": [
    "**Exercise 2:**<br>\n",
    "Appropriately encode the target \"Claim\"."
   ]
  },
  {
   "cell_type": "code",
   "execution_count": 6,
   "id": "0c8986da",
   "metadata": {},
   "outputs": [
    {
     "data": {
      "image/png": "[encoded data removed]",
      "text/plain": [
       "<Figure size 432x288 with 1 Axes>"
      ]
     },
     "metadata": {
      "needs_background": "light"
     },
     "output_type": "display_data"
    }
   ],
   "source": [
    "sns.countplot(x=\"Claim\", data=trav_ins)\n",
    "## we apply binary encoding\n",
    "trav_ins['Claim']=trav_ins['Claim'].map({'Yes': 1, 'No': 0})"
   ]
  },
  {
   "cell_type": "markdown",
   "id": "2e6cd291",
   "metadata": {},
   "source": [
    "**Exercise 3:**<br>\n",
    "Appropriately encode the categorical variables. We recommend merging categories with few observations in one group."
   ]
  },
  {
   "cell_type": "code",
   "execution_count": 8,
   "id": "278e3495",
   "metadata": {},
   "outputs": [
    {
     "data": {
      "text/plain": [
       "SINGAPORE                 False\n",
       "MALAYSIA                  False\n",
       "THAILAND                  False\n",
       "CHINA                     False\n",
       "AUSTRALIA                 False\n",
       "                          ...  \n",
       "SEYCHELLES                 True\n",
       "SAMOA                      True\n",
       "NIGERIA                    True\n",
       "DOMINICAN REPUBLIC         True\n",
       "BOSNIA AND HERZEGOVINA     True\n",
       "Name: Destination, Length: 149, dtype: bool"
      ]
     },
     "execution_count": 8,
     "metadata": {},
     "output_type": "execute_result"
    }
   ],
   "source": [
    "## We calculate number of observations for each destination.\n",
    "## Then we replace destinations with less than 500 observations by category 'Other'. \n",
    "dest_count = trav_ins['Destination'].value_counts() \n",
    "dest_count.lt(500)"
   ]
  },
  {
   "cell_type": "code",
   "execution_count": 9,
   "id": "07a0a3cd",
   "metadata": {},
   "outputs": [
    {
     "data": {
      "text/html": [
       "<div>\n",
       "<style scoped>\n",
       "    .dataframe tbody tr th:only-of-type {\n",
       "        vertical-align: middle;\n",
       "    }\n",
       "\n",
       "    .dataframe tbody tr th {\n",
       "        vertical-align: top;\n",
       "    }\n",
       "\n",
       "    .dataframe thead th {\n",
       "        text-align: right;\n",
       "    }\n",
       "</style>\n",
       "<table border=\"1\" class=\"dataframe\">\n",
       "  <thead>\n",
       "    <tr style=\"text-align: right;\">\n",
       "      <th></th>\n",
       "      <th>Duration</th>\n",
       "      <th>Net Sales</th>\n",
       "      <th>Commision (in value)</th>\n",
       "      <th>Age</th>\n",
       "      <th>Agency_ADM</th>\n",
       "      <th>Agency_ART</th>\n",
       "      <th>Agency_C2B</th>\n",
       "      <th>Agency_CBH</th>\n",
       "      <th>Agency_CCR</th>\n",
       "      <th>Agency_CSR</th>\n",
       "      <th>...</th>\n",
       "      <th>Destination_PHILIPPINES</th>\n",
       "      <th>Destination_SINGAPORE</th>\n",
       "      <th>Destination_TAIWAN, PROVINCE OF CHINA</th>\n",
       "      <th>Destination_THAILAND</th>\n",
       "      <th>Destination_UNITED KINGDOM</th>\n",
       "      <th>Destination_UNITED STATES</th>\n",
       "      <th>Destination_VIET NAM</th>\n",
       "      <th>Gender_F</th>\n",
       "      <th>Gender_M</th>\n",
       "      <th>Gender_missing</th>\n",
       "    </tr>\n",
       "  </thead>\n",
       "  <tbody>\n",
       "    <tr>\n",
       "      <th>0</th>\n",
       "      <td>186</td>\n",
       "      <td>-29.0</td>\n",
       "      <td>9.57</td>\n",
       "      <td>81</td>\n",
       "      <td>0</td>\n",
       "      <td>0</td>\n",
       "      <td>0</td>\n",
       "      <td>1</td>\n",
       "      <td>0</td>\n",
       "      <td>0</td>\n",
       "      <td>...</td>\n",
       "      <td>0</td>\n",
       "      <td>0</td>\n",
       "      <td>0</td>\n",
       "      <td>0</td>\n",
       "      <td>0</td>\n",
       "      <td>0</td>\n",
       "      <td>0</td>\n",
       "      <td>1</td>\n",
       "      <td>0</td>\n",
       "      <td>0</td>\n",
       "    </tr>\n",
       "    <tr>\n",
       "      <th>1</th>\n",
       "      <td>186</td>\n",
       "      <td>-29.0</td>\n",
       "      <td>9.57</td>\n",
       "      <td>71</td>\n",
       "      <td>0</td>\n",
       "      <td>0</td>\n",
       "      <td>0</td>\n",
       "      <td>1</td>\n",
       "      <td>0</td>\n",
       "      <td>0</td>\n",
       "      <td>...</td>\n",
       "      <td>0</td>\n",
       "      <td>0</td>\n",
       "      <td>0</td>\n",
       "      <td>0</td>\n",
       "      <td>0</td>\n",
       "      <td>0</td>\n",
       "      <td>0</td>\n",
       "      <td>1</td>\n",
       "      <td>0</td>\n",
       "      <td>0</td>\n",
       "    </tr>\n",
       "    <tr>\n",
       "      <th>2</th>\n",
       "      <td>65</td>\n",
       "      <td>-49.5</td>\n",
       "      <td>29.70</td>\n",
       "      <td>32</td>\n",
       "      <td>0</td>\n",
       "      <td>0</td>\n",
       "      <td>0</td>\n",
       "      <td>0</td>\n",
       "      <td>0</td>\n",
       "      <td>0</td>\n",
       "      <td>...</td>\n",
       "      <td>0</td>\n",
       "      <td>0</td>\n",
       "      <td>0</td>\n",
       "      <td>0</td>\n",
       "      <td>0</td>\n",
       "      <td>0</td>\n",
       "      <td>0</td>\n",
       "      <td>0</td>\n",
       "      <td>0</td>\n",
       "      <td>1</td>\n",
       "    </tr>\n",
       "    <tr>\n",
       "      <th>3</th>\n",
       "      <td>60</td>\n",
       "      <td>-39.6</td>\n",
       "      <td>23.76</td>\n",
       "      <td>32</td>\n",
       "      <td>0</td>\n",
       "      <td>0</td>\n",
       "      <td>0</td>\n",
       "      <td>0</td>\n",
       "      <td>0</td>\n",
       "      <td>0</td>\n",
       "      <td>...</td>\n",
       "      <td>0</td>\n",
       "      <td>0</td>\n",
       "      <td>0</td>\n",
       "      <td>0</td>\n",
       "      <td>0</td>\n",
       "      <td>0</td>\n",
       "      <td>0</td>\n",
       "      <td>0</td>\n",
       "      <td>0</td>\n",
       "      <td>1</td>\n",
       "    </tr>\n",
       "    <tr>\n",
       "      <th>4</th>\n",
       "      <td>79</td>\n",
       "      <td>-19.8</td>\n",
       "      <td>11.88</td>\n",
       "      <td>41</td>\n",
       "      <td>0</td>\n",
       "      <td>0</td>\n",
       "      <td>0</td>\n",
       "      <td>0</td>\n",
       "      <td>0</td>\n",
       "      <td>0</td>\n",
       "      <td>...</td>\n",
       "      <td>0</td>\n",
       "      <td>0</td>\n",
       "      <td>0</td>\n",
       "      <td>0</td>\n",
       "      <td>0</td>\n",
       "      <td>0</td>\n",
       "      <td>0</td>\n",
       "      <td>0</td>\n",
       "      <td>0</td>\n",
       "      <td>1</td>\n",
       "    </tr>\n",
       "    <tr>\n",
       "      <th>5</th>\n",
       "      <td>66</td>\n",
       "      <td>-121.0</td>\n",
       "      <td>42.35</td>\n",
       "      <td>44</td>\n",
       "      <td>0</td>\n",
       "      <td>0</td>\n",
       "      <td>0</td>\n",
       "      <td>0</td>\n",
       "      <td>0</td>\n",
       "      <td>0</td>\n",
       "      <td>...</td>\n",
       "      <td>0</td>\n",
       "      <td>0</td>\n",
       "      <td>0</td>\n",
       "      <td>0</td>\n",
       "      <td>0</td>\n",
       "      <td>1</td>\n",
       "      <td>0</td>\n",
       "      <td>1</td>\n",
       "      <td>0</td>\n",
       "      <td>0</td>\n",
       "    </tr>\n",
       "    <tr>\n",
       "      <th>6</th>\n",
       "      <td>47</td>\n",
       "      <td>-39.6</td>\n",
       "      <td>23.76</td>\n",
       "      <td>32</td>\n",
       "      <td>0</td>\n",
       "      <td>0</td>\n",
       "      <td>0</td>\n",
       "      <td>0</td>\n",
       "      <td>0</td>\n",
       "      <td>0</td>\n",
       "      <td>...</td>\n",
       "      <td>0</td>\n",
       "      <td>0</td>\n",
       "      <td>0</td>\n",
       "      <td>0</td>\n",
       "      <td>0</td>\n",
       "      <td>1</td>\n",
       "      <td>0</td>\n",
       "      <td>0</td>\n",
       "      <td>0</td>\n",
       "      <td>1</td>\n",
       "    </tr>\n",
       "    <tr>\n",
       "      <th>7</th>\n",
       "      <td>63</td>\n",
       "      <td>-108.9</td>\n",
       "      <td>65.34</td>\n",
       "      <td>29</td>\n",
       "      <td>0</td>\n",
       "      <td>0</td>\n",
       "      <td>0</td>\n",
       "      <td>0</td>\n",
       "      <td>0</td>\n",
       "      <td>0</td>\n",
       "      <td>...</td>\n",
       "      <td>0</td>\n",
       "      <td>0</td>\n",
       "      <td>0</td>\n",
       "      <td>0</td>\n",
       "      <td>0</td>\n",
       "      <td>0</td>\n",
       "      <td>0</td>\n",
       "      <td>0</td>\n",
       "      <td>0</td>\n",
       "      <td>1</td>\n",
       "    </tr>\n",
       "    <tr>\n",
       "      <th>8</th>\n",
       "      <td>57</td>\n",
       "      <td>-19.8</td>\n",
       "      <td>11.88</td>\n",
       "      <td>44</td>\n",
       "      <td>0</td>\n",
       "      <td>0</td>\n",
       "      <td>0</td>\n",
       "      <td>0</td>\n",
       "      <td>0</td>\n",
       "      <td>0</td>\n",
       "      <td>...</td>\n",
       "      <td>0</td>\n",
       "      <td>0</td>\n",
       "      <td>0</td>\n",
       "      <td>1</td>\n",
       "      <td>0</td>\n",
       "      <td>0</td>\n",
       "      <td>0</td>\n",
       "      <td>0</td>\n",
       "      <td>0</td>\n",
       "      <td>1</td>\n",
       "    </tr>\n",
       "    <tr>\n",
       "      <th>9</th>\n",
       "      <td>186</td>\n",
       "      <td>-99.0</td>\n",
       "      <td>59.40</td>\n",
       "      <td>37</td>\n",
       "      <td>0</td>\n",
       "      <td>0</td>\n",
       "      <td>0</td>\n",
       "      <td>0</td>\n",
       "      <td>0</td>\n",
       "      <td>0</td>\n",
       "      <td>...</td>\n",
       "      <td>0</td>\n",
       "      <td>0</td>\n",
       "      <td>0</td>\n",
       "      <td>0</td>\n",
       "      <td>0</td>\n",
       "      <td>0</td>\n",
       "      <td>0</td>\n",
       "      <td>0</td>\n",
       "      <td>0</td>\n",
       "      <td>1</td>\n",
       "    </tr>\n",
       "  </tbody>\n",
       "</table>\n",
       "<p>10 rows × 73 columns</p>\n",
       "</div>"
      ],
      "text/plain": [
       "   Duration  Net Sales  Commision (in value)  Age  Agency_ADM  Agency_ART  \\\n",
       "0       186      -29.0                  9.57   81           0           0   \n",
       "1       186      -29.0                  9.57   71           0           0   \n",
       "2        65      -49.5                 29.70   32           0           0   \n",
       "3        60      -39.6                 23.76   32           0           0   \n",
       "4        79      -19.8                 11.88   41           0           0   \n",
       "5        66     -121.0                 42.35   44           0           0   \n",
       "6        47      -39.6                 23.76   32           0           0   \n",
       "7        63     -108.9                 65.34   29           0           0   \n",
       "8        57      -19.8                 11.88   44           0           0   \n",
       "9       186      -99.0                 59.40   37           0           0   \n",
       "\n",
       "   Agency_C2B  Agency_CBH  Agency_CCR  Agency_CSR  ...  \\\n",
       "0           0           1           0           0  ...   \n",
       "1           0           1           0           0  ...   \n",
       "2           0           0           0           0  ...   \n",
       "3           0           0           0           0  ...   \n",
       "4           0           0           0           0  ...   \n",
       "5           0           0           0           0  ...   \n",
       "6           0           0           0           0  ...   \n",
       "7           0           0           0           0  ...   \n",
       "8           0           0           0           0  ...   \n",
       "9           0           0           0           0  ...   \n",
       "\n",
       "   Destination_PHILIPPINES  Destination_SINGAPORE  \\\n",
       "0                        0                      0   \n",
       "1                        0                      0   \n",
       "2                        0                      0   \n",
       "3                        0                      0   \n",
       "4                        0                      0   \n",
       "5                        0                      0   \n",
       "6                        0                      0   \n",
       "7                        0                      0   \n",
       "8                        0                      0   \n",
       "9                        0                      0   \n",
       "\n",
       "   Destination_TAIWAN, PROVINCE OF CHINA  Destination_THAILAND  \\\n",
       "0                                      0                     0   \n",
       "1                                      0                     0   \n",
       "2                                      0                     0   \n",
       "3                                      0                     0   \n",
       "4                                      0                     0   \n",
       "5                                      0                     0   \n",
       "6                                      0                     0   \n",
       "7                                      0                     0   \n",
       "8                                      0                     1   \n",
       "9                                      0                     0   \n",
       "\n",
       "   Destination_UNITED KINGDOM  Destination_UNITED STATES  \\\n",
       "0                           0                          0   \n",
       "1                           0                          0   \n",
       "2                           0                          0   \n",
       "3                           0                          0   \n",
       "4                           0                          0   \n",
       "5                           0                          1   \n",
       "6                           0                          1   \n",
       "7                           0                          0   \n",
       "8                           0                          0   \n",
       "9                           0                          0   \n",
       "\n",
       "   Destination_VIET NAM  Gender_F  Gender_M  Gender_missing  \n",
       "0                     0         1         0               0  \n",
       "1                     0         1         0               0  \n",
       "2                     0         0         0               1  \n",
       "3                     0         0         0               1  \n",
       "4                     0         0         0               1  \n",
       "5                     0         1         0               0  \n",
       "6                     0         0         0               1  \n",
       "7                     0         0         0               1  \n",
       "8                     0         0         0               1  \n",
       "9                     0         0         0               1  \n",
       "\n",
       "[10 rows x 73 columns]"
      ]
     },
     "execution_count": 9,
     "metadata": {},
     "output_type": "execute_result"
    }
   ],
   "source": [
    "trav_ins['Destination'] = np.where(trav_ins['Destination'].isin(dest_count[dest_count.lt(500)].index),'Other',trav_ins['Destination'])\n",
    "\n",
    "## We first seperate features and target, to leave the target out of the encoding.\n",
    "X = trav_ins.drop('Claim', axis = 1)\n",
    "y = trav_ins['Claim']\n",
    "\n",
    "## We apply one hot encoding.\n",
    "X = pd.get_dummies(X, prefix_sep=\"_\",columns=X.select_dtypes(include=[object]).columns)\n",
    "X.head(10)"
   ]
  },
  {
   "cell_type": "markdown",
   "id": "00fbfc34",
   "metadata": {},
   "source": [
    "**Exercise 4:**<br>\n",
    "Split 80% of the data in the training set and the remaining 20% data in the test set."
   ]
  },
  {
   "cell_type": "code",
   "execution_count": 10,
   "id": "f965cc56",
   "metadata": {},
   "outputs": [],
   "source": [
    "X_train, X_test, y_train, y_test = train_test_split(X, y, test_size = 0.2, random_state = 5) # random state is similair to setting the seed"
   ]
  },
  {
   "cell_type": "markdown",
   "id": "e900d40a",
   "metadata": {},
   "source": [
    "**Exercise 5:**<br>\n",
    "Build a random forest model on the training data. Find the best tuning parameters by grid search.  \n",
    "Below is a simple grid, which you could choose."
   ]
  },
  {
   "cell_type": "code",
   "execution_count": 11,
   "id": "90779e27",
   "metadata": {},
   "outputs": [
    {
     "name": "stdout",
     "output_type": "stream",
     "text": [
      "Fitting 5 folds for each of 3 candidates, totalling 15 fits\n",
      "Best CV AUC: 0.8222\n",
      "Optimal RF meta-parameters:\n",
      "{'max_depth': 10, 'max_features': 8, 'n_estimators': 500}\n"
     ]
    }
   ],
   "source": [
    "## example parameter grid\n",
    "param_grid = {'n_estimators': [500],\n",
    "              'max_features': [4, 8, 12],\n",
    "              'max_depth':[10]\n",
    "              }\n",
    "\n",
    "# grid search and fitting on the whole training set with best tuning parameters \n",
    "rf = RandomForestClassifier()\n",
    "gs_rf = GridSearchCV(rf, param_grid, cv=5, scoring='roc_auc', verbose=1)\n",
    "gs_rf.fit(X_train, y_train)\n",
    "print(\"Best CV AUC: %0.4f\" % gs_rf.best_score_)\n",
    "print(\"Optimal RF meta-parameters:\")\n",
    "print(gs_rf.best_params_)\n",
    "rf = gs_rf.best_estimator_ ## model with best parameters fitted on the whole training set"
   ]
  },
  {
   "cell_type": "markdown",
   "id": "6cfaefa0",
   "metadata": {},
   "source": [
    "**Exercise 6:**<br>\n",
    "Evaluate the model by appropriate metrics on the test set. Is the model able to predict claims with certainty?\n",
    "Is the model usefull for application?"
   ]
  },
  {
   "cell_type": "code",
   "execution_count": 12,
   "id": "ca679935",
   "metadata": {},
   "outputs": [
    {
     "name": "stdout",
     "output_type": "stream",
     "text": [
      "Classification Accuracy:  0.9845255013421759\n",
      "Recall:  \t\t 0.0\n",
      "AUC: \t\t\t 0.8402019949920626\n"
     ]
    }
   ],
   "source": [
    "rf_pred = rf.predict(X_test)\n",
    "rf_pred_prob = rf.predict_proba(X_test)\n",
    "rf_pred_prob = rf_pred_prob[:,1]\n",
    "print('Classification Accuracy: ',   metrics.accuracy_score(y_test, rf_pred))\n",
    "print(\"Recall:  \\t\\t\",               metrics.recall_score(y_test, rf_pred))\n",
    "print('AUC: \\t\\t\\t',                 metrics.roc_auc_score(y_test, rf_pred_prob))"
   ]
  },
  {
   "cell_type": "code",
   "execution_count": 15,
   "id": "1085e048",
   "metadata": {},
   "outputs": [
    {
     "data": {
      "text/plain": [
       "array([0])"
      ]
     },
     "execution_count": 15,
     "metadata": {},
     "output_type": "execute_result"
    }
   ],
   "source": [
    "np.unique(rf_pred)"
   ]
  },
  {
   "cell_type": "code",
   "execution_count": 19,
   "id": "991b7bdc",
   "metadata": {},
   "outputs": [
    {
     "data": {
      "text/plain": [
       "0    12470\n",
       "1      196\n",
       "Name: Claim, dtype: int64"
      ]
     },
     "execution_count": 19,
     "metadata": {},
     "output_type": "execute_result"
    }
   ],
   "source": [
    "y_test.value_counts()"
   ]
  },
  {
   "cell_type": "code",
   "execution_count": 21,
   "id": "22645e71",
   "metadata": {},
   "outputs": [
    {
     "data": {
      "text/plain": [
       "0.9845255013421759"
      ]
     },
     "execution_count": 21,
     "metadata": {},
     "output_type": "execute_result"
    }
   ],
   "source": [
    "y_test[y_test==0].count()/y_test.count()"
   ]
  },
  {
   "cell_type": "markdown",
   "id": "8ef922d8",
   "metadata": {},
   "source": [
    "**Bonus:**<br>\n",
    "Identify which features are most relevant in predicting claims and how they affect the predictions."
   ]
  },
  {
   "cell_type": "code",
   "execution_count": 22,
   "id": "226885d5",
   "metadata": {},
   "outputs": [
    {
     "data": {
      "image/png": "[encoded data removed]",
      "text/plain": [
       "<Figure size 1440x720 with 1 Axes>"
      ]
     },
     "metadata": {
      "needs_background": "light"
     },
     "output_type": "display_data"
    }
   ],
   "source": [
    "## feature importance\n",
    "## We calculate the permutation importance on the test set in the same way as in the notebook for exercise 3.\n",
    "## We can see that net sales is especially important.\n",
    "## - Due to the high computation time, we can show the result \"feature_importance.png\" in the tutorial.\n",
    "plt.rcParams['figure.figsize'] = 20, 10\n",
    "perm_imp = permutation_importance(rf, X_test, y_test, scoring='roc_auc', random_state=123)\n",
    "sorted_idx = perm_imp.importances_mean.argsort()\n",
    "fig, ax = plt.subplots()\n",
    "ax.boxplot(perm_imp.importances[sorted_idx].T,\n",
    "           vert=False, labels=X_test.columns[sorted_idx])\n",
    "ax.set_title(\"Permutation importance (test set) of {}\".format(str(rf)[0:str(rf).find('(')]))\n",
    "fig.tight_layout()\n",
    "plt.show()"
   ]
  },
  {
   "cell_type": "code",
   "execution_count": 29,
   "id": "610f4ab8",
   "metadata": {},
   "outputs": [
    {
     "name": "stdout",
     "output_type": "stream",
     "text": [
      "\n",
      "\n",
      "--------------------------------------------------------------------------------\n",
      "LokyProcess-20 failed with traceback: \n",
      "--------------------------------------------------------------------------------\n",
      "\n",
      "\n",
      "--------------------------------------------------------------------------------\n",
      "LokyProcess-21 failed with traceback: \n",
      "--------------------------------------------------------------------------------\n",
      "\n",
      "\n",
      "--------------------------------------------------------------------------------\n",
      "LokyProcess-19 failed with traceback: \n",
      "--------------------------------------------------------------------------------\n",
      "Traceback (most recent call last):\n",
      "  File \"/Library/Frameworks/Python.framework/Versions/3.9/lib/python3.9/site-packages/joblib/externals/loky/backend/popen_loky_posix.py\", line 195, in <module>\n",
      "    process_obj = pickle.load(from_parent)\n",
      "  File \"/Library/Frameworks/Python.framework/Versions/3.9/lib/python3.9/site-packages/joblib/externals/loky/backend/queues.py\", line 75, in __setstate__\n",
      "    self._after_fork()\n",
      "  File \"/Library/Frameworks/Python.framework/Versions/3.9/lib/python3.9/multiprocessing/queues.py\", line 69, in _after_fork\n",
      "    self._reset(after_fork=True)\n",
      "  File \"/Library/Frameworks/Python.framework/Versions/3.9/lib/python3.9/multiprocessing/queues.py\", line 73, in _reset\n",
      "    self._notempty._at_fork_reinit()\n",
      "AttributeError: '_SafeQueue' object has no attribute '_notempty'\n",
      "\n",
      "\n",
      "--------------------------------------------------------------------------------\n",
      "Traceback (most recent call last):\n",
      "  File \"/Library/Frameworks/Python.framework/Versions/3.9/lib/python3.9/site-packages/joblib/externals/loky/backend/popen_loky_posix.py\", line 195, in <module>\n",
      "    process_obj = pickle.load(from_parent)\n",
      "  File \"/Library/Frameworks/Python.framework/Versions/3.9/lib/python3.9/site-packages/joblib/externals/loky/backend/queues.py\", line 75, in __setstate__\n",
      "    self._after_fork()\n",
      "  File \"/Library/Frameworks/Python.framework/Versions/3.9/lib/python3.9/multiprocessing/queues.py\", line 69, in _after_fork\n",
      "    self._reset(after_fork=True)\n",
      "  File \"/Library/Frameworks/Python.framework/Versions/3.9/lib/python3.9/multiprocessing/queues.py\", line 73, in _reset\n",
      "    self._notempty._at_fork_reinit()\n",
      "AttributeError: '_SafeQueue' object has no attribute '_notempty'\n",
      "\n",
      "Traceback (most recent call last):\n",
      "  File \"/Library/Frameworks/Python.framework/Versions/3.9/lib/python3.9/site-packages/joblib/externals/loky/backend/popen_loky_posix.py\", line 195, in <module>\n",
      "    process_obj = pickle.load(from_parent)\n",
      "  File \"/Library/Frameworks/Python.framework/Versions/3.9/lib/python3.9/site-packages/joblib/externals/loky/backend/queues.py\", line 75, in __setstate__\n",
      "    self._after_fork()\n",
      "  File \"/Library/Frameworks/Python.framework/Versions/3.9/lib/python3.9/multiprocessing/queues.py\", line 69, in _after_fork\n",
      "    self._reset(after_fork=True)\n",
      "  File \"/Library/Frameworks/Python.framework/Versions/3.9/lib/python3.9/multiprocessing/queues.py\", line 73, in _reset\n",
      "    self._notempty._at_fork_reinit()\n",
      "AttributeError: '_SafeQueue' object has no attribute '_notempty'\n",
      "\n",
      "--------------------------------------------------------------------------------\n",
      "\n",
      "\n",
      "--------------------------------------------------------------------------------\n"
     ]
    },
    {
     "ename": "TerminatedWorkerError",
     "evalue": "A worker process managed by the executor was unexpectedly terminated. This could be caused by a segmentation fault while calling the function or by an excessive memory usage causing the Operating System to kill the worker. The exit codes of the workers are {EXIT(1), EXIT(1)}",
     "output_type": "error",
     "traceback": [
      "\u001b[0;31m---------------------------------------------------------------------------\u001b[0m",
      "\u001b[0;31mTerminatedWorkerError\u001b[0m                     Traceback (most recent call last)",
      "\u001b[1;32m/Users/aubrey/Documents/GitHub/adams/exercises/tut1_recap_bads_student.ipynb Cell 23'\u001b[0m in \u001b[0;36m<cell line: 6>\u001b[0;34m()\u001b[0m\n\u001b[1;32m      <a href='vscode-notebook-cell:/Users/aubrey/Documents/GitHub/adams/exercises/tut1_recap_bads_student.ipynb#ch0000018?line=0'>1</a>\u001b[0m \u001b[39m## partial dependence plot\u001b[39;00m\n\u001b[1;32m      <a href='vscode-notebook-cell:/Users/aubrey/Documents/GitHub/adams/exercises/tut1_recap_bads_student.ipynb#ch0000018?line=1'>2</a>\u001b[0m \u001b[39m## We calculate the partial dependence plot in the same way as in the notebook for exercise 3.\u001b[39;00m\n\u001b[1;32m      <a href='vscode-notebook-cell:/Users/aubrey/Documents/GitHub/adams/exercises/tut1_recap_bads_student.ipynb#ch0000018?line=2'>3</a>\u001b[0m \u001b[39m## The probability of \"claim\" increases with net sales. \u001b[39;00m\n\u001b[1;32m      <a href='vscode-notebook-cell:/Users/aubrey/Documents/GitHub/adams/exercises/tut1_recap_bads_student.ipynb#ch0000018?line=3'>4</a>\u001b[0m \u001b[39m## - Due to the high computation time, we can show the result \"Partial_Dependence.png\" in the tutorial.\u001b[39;00m\n\u001b[1;32m      <a href='vscode-notebook-cell:/Users/aubrey/Documents/GitHub/adams/exercises/tut1_recap_bads_student.ipynb#ch0000018?line=4'>5</a>\u001b[0m plt\u001b[39m.\u001b[39mrcParams[\u001b[39m'\u001b[39m\u001b[39mfigure.figsize\u001b[39m\u001b[39m'\u001b[39m] \u001b[39m=\u001b[39m \u001b[39m20\u001b[39m, \u001b[39m10\u001b[39m\n\u001b[0;32m----> <a href='vscode-notebook-cell:/Users/aubrey/Documents/GitHub/adams/exercises/tut1_recap_bads_student.ipynb#ch0000018?line=5'>6</a>\u001b[0m plot_partial_dependence(rf, X_test, features\u001b[39m=\u001b[39;49m[\u001b[39m'\u001b[39;49m\u001b[39mNet Sales\u001b[39;49m\u001b[39m'\u001b[39;49m], n_jobs\u001b[39m=\u001b[39;49m\u001b[39m3\u001b[39;49m, grid_resolution\u001b[39m=\u001b[39;49m\u001b[39m20\u001b[39;49m)\n\u001b[1;32m      <a href='vscode-notebook-cell:/Users/aubrey/Documents/GitHub/adams/exercises/tut1_recap_bads_student.ipynb#ch0000018?line=6'>7</a>\u001b[0m fig \u001b[39m=\u001b[39m plt\u001b[39m.\u001b[39mgcf()\n\u001b[1;32m      <a href='vscode-notebook-cell:/Users/aubrey/Documents/GitHub/adams/exercises/tut1_recap_bads_student.ipynb#ch0000018?line=7'>8</a>\u001b[0m fig\u001b[39m.\u001b[39msuptitle(\u001b[39m'\u001b[39m\u001b[39mPartial dependence\u001b[39m\u001b[39m'\u001b[39m)\n",
      "File \u001b[0;32m/Library/Frameworks/Python.framework/Versions/3.9/lib/python3.9/site-packages/sklearn/utils/deprecation.py:88\u001b[0m, in \u001b[0;36mdeprecated._decorate_fun.<locals>.wrapped\u001b[0;34m(*args, **kwargs)\u001b[0m\n\u001b[1;32m     85\u001b[0m \u001b[39m@functools\u001b[39m\u001b[39m.\u001b[39mwraps(fun)\n\u001b[1;32m     86\u001b[0m \u001b[39mdef\u001b[39;00m \u001b[39mwrapped\u001b[39m(\u001b[39m*\u001b[39margs, \u001b[39m*\u001b[39m\u001b[39m*\u001b[39mkwargs):\n\u001b[1;32m     87\u001b[0m     warnings\u001b[39m.\u001b[39mwarn(msg, category\u001b[39m=\u001b[39m\u001b[39mFutureWarning\u001b[39;00m)\n\u001b[0;32m---> 88\u001b[0m     \u001b[39mreturn\u001b[39;00m fun(\u001b[39m*\u001b[39;49margs, \u001b[39m*\u001b[39;49m\u001b[39m*\u001b[39;49mkwargs)\n",
      "File \u001b[0;32m/Library/Frameworks/Python.framework/Versions/3.9/lib/python3.9/site-packages/sklearn/inspection/_plot/partial_dependence.py:289\u001b[0m, in \u001b[0;36mplot_partial_dependence\u001b[0;34m(estimator, X, features, feature_names, target, response_method, n_cols, grid_resolution, percentiles, method, n_jobs, verbose, line_kw, ice_lines_kw, pd_line_kw, contour_kw, ax, kind, subsample, random_state)\u001b[0m\n\u001b[1;32m     48\u001b[0m \u001b[39m\"\"\"Partial dependence (PD) and individual conditional expectation (ICE)\u001b[39;00m\n\u001b[1;32m     49\u001b[0m \u001b[39mplots.\u001b[39;00m\n\u001b[1;32m     50\u001b[0m \n\u001b[0;32m   (...)\u001b[0m\n\u001b[1;32m    286\u001b[0m \u001b[39m>>> plt.show()  # doctest: +SKIP\u001b[39;00m\n\u001b[1;32m    287\u001b[0m \u001b[39m\"\"\"\u001b[39;00m\n\u001b[1;32m    288\u001b[0m check_matplotlib_support(\u001b[39m\"\u001b[39m\u001b[39mplot_partial_dependence\u001b[39m\u001b[39m\"\u001b[39m)  \u001b[39m# noqa\u001b[39;00m\n\u001b[0;32m--> 289\u001b[0m \u001b[39mreturn\u001b[39;00m _plot_partial_dependence(\n\u001b[1;32m    290\u001b[0m     estimator,\n\u001b[1;32m    291\u001b[0m     X,\n\u001b[1;32m    292\u001b[0m     features,\n\u001b[1;32m    293\u001b[0m     feature_names\u001b[39m=\u001b[39;49mfeature_names,\n\u001b[1;32m    294\u001b[0m     target\u001b[39m=\u001b[39;49mtarget,\n\u001b[1;32m    295\u001b[0m     response_method\u001b[39m=\u001b[39;49mresponse_method,\n\u001b[1;32m    296\u001b[0m     n_cols\u001b[39m=\u001b[39;49mn_cols,\n\u001b[1;32m    297\u001b[0m     grid_resolution\u001b[39m=\u001b[39;49mgrid_resolution,\n\u001b[1;32m    298\u001b[0m     percentiles\u001b[39m=\u001b[39;49mpercentiles,\n\u001b[1;32m    299\u001b[0m     method\u001b[39m=\u001b[39;49mmethod,\n\u001b[1;32m    300\u001b[0m     n_jobs\u001b[39m=\u001b[39;49mn_jobs,\n\u001b[1;32m    301\u001b[0m     verbose\u001b[39m=\u001b[39;49mverbose,\n\u001b[1;32m    302\u001b[0m     line_kw\u001b[39m=\u001b[39;49mline_kw,\n\u001b[1;32m    303\u001b[0m     ice_lines_kw\u001b[39m=\u001b[39;49mice_lines_kw,\n\u001b[1;32m    304\u001b[0m     pd_line_kw\u001b[39m=\u001b[39;49mpd_line_kw,\n\u001b[1;32m    305\u001b[0m     contour_kw\u001b[39m=\u001b[39;49mcontour_kw,\n\u001b[1;32m    306\u001b[0m     ax\u001b[39m=\u001b[39;49max,\n\u001b[1;32m    307\u001b[0m     kind\u001b[39m=\u001b[39;49mkind,\n\u001b[1;32m    308\u001b[0m     subsample\u001b[39m=\u001b[39;49msubsample,\n\u001b[1;32m    309\u001b[0m     random_state\u001b[39m=\u001b[39;49mrandom_state,\n\u001b[1;32m    310\u001b[0m )\n",
      "File \u001b[0;32m/Library/Frameworks/Python.framework/Versions/3.9/lib/python3.9/site-packages/sklearn/inspection/_plot/partial_dependence.py:436\u001b[0m, in \u001b[0;36m_plot_partial_dependence\u001b[0;34m(estimator, X, features, feature_names, target, response_method, n_cols, grid_resolution, percentiles, method, n_jobs, verbose, line_kw, ice_lines_kw, pd_line_kw, contour_kw, ax, kind, subsample, random_state)\u001b[0m\n\u001b[1;32m    430\u001b[0m         \u001b[39mraise\u001b[39;00m \u001b[39mValueError\u001b[39;00m(\n\u001b[1;32m    431\u001b[0m             \u001b[39mf\u001b[39m\u001b[39m\"\u001b[39m\u001b[39mWhen a floating-point, subsample=\u001b[39m\u001b[39m{\u001b[39;00msubsample\u001b[39m}\u001b[39;00m\u001b[39m should be in \u001b[39m\u001b[39m\"\u001b[39m\n\u001b[1;32m    432\u001b[0m             \u001b[39m\"\u001b[39m\u001b[39mthe (0, 1) range.\u001b[39m\u001b[39m\"\u001b[39m\n\u001b[1;32m    433\u001b[0m         )\n\u001b[1;32m    435\u001b[0m \u001b[39m# compute predictions and/or averaged predictions\u001b[39;00m\n\u001b[0;32m--> 436\u001b[0m pd_results \u001b[39m=\u001b[39m Parallel(n_jobs\u001b[39m=\u001b[39;49mn_jobs, verbose\u001b[39m=\u001b[39;49mverbose)(\n\u001b[1;32m    437\u001b[0m     delayed(partial_dependence)(\n\u001b[1;32m    438\u001b[0m         estimator,\n\u001b[1;32m    439\u001b[0m         X,\n\u001b[1;32m    440\u001b[0m         fxs,\n\u001b[1;32m    441\u001b[0m         response_method\u001b[39m=\u001b[39;49mresponse_method,\n\u001b[1;32m    442\u001b[0m         method\u001b[39m=\u001b[39;49mmethod,\n\u001b[1;32m    443\u001b[0m         grid_resolution\u001b[39m=\u001b[39;49mgrid_resolution,\n\u001b[1;32m    444\u001b[0m         percentiles\u001b[39m=\u001b[39;49mpercentiles,\n\u001b[1;32m    445\u001b[0m         kind\u001b[39m=\u001b[39;49mkind,\n\u001b[1;32m    446\u001b[0m     )\n\u001b[1;32m    447\u001b[0m     \u001b[39mfor\u001b[39;49;00m fxs \u001b[39min\u001b[39;49;00m features\n\u001b[1;32m    448\u001b[0m )\n\u001b[1;32m    450\u001b[0m \u001b[39m# For multioutput regression, we can only check the validity of target\u001b[39;00m\n\u001b[1;32m    451\u001b[0m \u001b[39m# now that we have the predictions.\u001b[39;00m\n\u001b[1;32m    452\u001b[0m \u001b[39m# Also note: as multiclass-multioutput classifiers are not supported,\u001b[39;00m\n\u001b[1;32m    453\u001b[0m \u001b[39m# multiclass and multioutput scenario are mutually exclusive. So there is\u001b[39;00m\n\u001b[1;32m    454\u001b[0m \u001b[39m# no risk of overwriting target_idx here.\u001b[39;00m\n\u001b[1;32m    455\u001b[0m pd_result \u001b[39m=\u001b[39m pd_results[\u001b[39m0\u001b[39m]  \u001b[39m# checking the first result is enough\u001b[39;00m\n",
      "File \u001b[0;32m/Library/Frameworks/Python.framework/Versions/3.9/lib/python3.9/site-packages/joblib/parallel.py:1017\u001b[0m, in \u001b[0;36mParallel.__call__\u001b[0;34m(self, iterable)\u001b[0m\n\u001b[1;32m   1014\u001b[0m     \u001b[39mself\u001b[39m\u001b[39m.\u001b[39m_iterating \u001b[39m=\u001b[39m \u001b[39mFalse\u001b[39;00m\n\u001b[1;32m   1016\u001b[0m \u001b[39mwith\u001b[39;00m \u001b[39mself\u001b[39m\u001b[39m.\u001b[39m_backend\u001b[39m.\u001b[39mretrieval_context():\n\u001b[0;32m-> 1017\u001b[0m     \u001b[39mself\u001b[39;49m\u001b[39m.\u001b[39;49mretrieve()\n\u001b[1;32m   1018\u001b[0m \u001b[39m# Make sure that we get a last message telling us we are done\u001b[39;00m\n\u001b[1;32m   1019\u001b[0m elapsed_time \u001b[39m=\u001b[39m time\u001b[39m.\u001b[39mtime() \u001b[39m-\u001b[39m \u001b[39mself\u001b[39m\u001b[39m.\u001b[39m_start_time\n",
      "File \u001b[0;32m/Library/Frameworks/Python.framework/Versions/3.9/lib/python3.9/site-packages/joblib/parallel.py:909\u001b[0m, in \u001b[0;36mParallel.retrieve\u001b[0;34m(self)\u001b[0m\n\u001b[1;32m    907\u001b[0m \u001b[39mtry\u001b[39;00m:\n\u001b[1;32m    908\u001b[0m     \u001b[39mif\u001b[39;00m \u001b[39mgetattr\u001b[39m(\u001b[39mself\u001b[39m\u001b[39m.\u001b[39m_backend, \u001b[39m'\u001b[39m\u001b[39msupports_timeout\u001b[39m\u001b[39m'\u001b[39m, \u001b[39mFalse\u001b[39;00m):\n\u001b[0;32m--> 909\u001b[0m         \u001b[39mself\u001b[39m\u001b[39m.\u001b[39m_output\u001b[39m.\u001b[39mextend(job\u001b[39m.\u001b[39;49mget(timeout\u001b[39m=\u001b[39;49m\u001b[39mself\u001b[39;49m\u001b[39m.\u001b[39;49mtimeout))\n\u001b[1;32m    910\u001b[0m     \u001b[39melse\u001b[39;00m:\n\u001b[1;32m    911\u001b[0m         \u001b[39mself\u001b[39m\u001b[39m.\u001b[39m_output\u001b[39m.\u001b[39mextend(job\u001b[39m.\u001b[39mget())\n",
      "File \u001b[0;32m/Library/Frameworks/Python.framework/Versions/3.9/lib/python3.9/site-packages/joblib/_parallel_backends.py:562\u001b[0m, in \u001b[0;36mLokyBackend.wrap_future_result\u001b[0;34m(future, timeout)\u001b[0m\n\u001b[1;32m    559\u001b[0m \u001b[39m\"\"\"Wrapper for Future.result to implement the same behaviour as\u001b[39;00m\n\u001b[1;32m    560\u001b[0m \u001b[39mAsyncResults.get from multiprocessing.\"\"\"\u001b[39;00m\n\u001b[1;32m    561\u001b[0m \u001b[39mtry\u001b[39;00m:\n\u001b[0;32m--> 562\u001b[0m     \u001b[39mreturn\u001b[39;00m future\u001b[39m.\u001b[39;49mresult(timeout\u001b[39m=\u001b[39;49mtimeout)\n\u001b[1;32m    563\u001b[0m \u001b[39mexcept\u001b[39;00m LokyTimeoutError:\n\u001b[1;32m    564\u001b[0m     \u001b[39mraise\u001b[39;00m \u001b[39mTimeoutError\u001b[39;00m()\n",
      "File \u001b[0;32m/Library/Frameworks/Python.framework/Versions/3.9/lib/python3.9/concurrent/futures/_base.py:440\u001b[0m, in \u001b[0;36mFuture.result\u001b[0;34m(self, timeout)\u001b[0m\n\u001b[1;32m    438\u001b[0m     \u001b[39mraise\u001b[39;00m CancelledError()\n\u001b[1;32m    439\u001b[0m \u001b[39melif\u001b[39;00m \u001b[39mself\u001b[39m\u001b[39m.\u001b[39m_state \u001b[39m==\u001b[39m FINISHED:\n\u001b[0;32m--> 440\u001b[0m     \u001b[39mreturn\u001b[39;00m \u001b[39mself\u001b[39;49m\u001b[39m.\u001b[39;49m__get_result()\n\u001b[1;32m    441\u001b[0m \u001b[39melse\u001b[39;00m:\n\u001b[1;32m    442\u001b[0m     \u001b[39mraise\u001b[39;00m \u001b[39mTimeoutError\u001b[39;00m()\n",
      "File \u001b[0;32m/Library/Frameworks/Python.framework/Versions/3.9/lib/python3.9/concurrent/futures/_base.py:389\u001b[0m, in \u001b[0;36mFuture.__get_result\u001b[0;34m(self)\u001b[0m\n\u001b[1;32m    387\u001b[0m \u001b[39mdef\u001b[39;00m \u001b[39m__get_result\u001b[39m(\u001b[39mself\u001b[39m):\n\u001b[1;32m    388\u001b[0m     \u001b[39mif\u001b[39;00m \u001b[39mself\u001b[39m\u001b[39m.\u001b[39m_exception:\n\u001b[0;32m--> 389\u001b[0m         \u001b[39mraise\u001b[39;00m \u001b[39mself\u001b[39m\u001b[39m.\u001b[39m_exception\n\u001b[1;32m    390\u001b[0m     \u001b[39melse\u001b[39;00m:\n\u001b[1;32m    391\u001b[0m         \u001b[39mreturn\u001b[39;00m \u001b[39mself\u001b[39m\u001b[39m.\u001b[39m_result\n",
      "\u001b[0;31mTerminatedWorkerError\u001b[0m: A worker process managed by the executor was unexpectedly terminated. This could be caused by a segmentation fault while calling the function or by an excessive memory usage causing the Operating System to kill the worker. The exit codes of the workers are {EXIT(1), EXIT(1)}"
     ]
    }
   ],
   "source": [
    "## partial dependence plot\n",
    "## We calculate the partial dependence plot in the same way as in the notebook for exercise 3.\n",
    "## The probability of \"claim\" increases with net sales. \n",
    "## - Due to the high computation time, we can show the result \"Partial_Dependence.png\" in the tutorial.\n",
    "plt.rcParams['figure.figsize'] = 20, 10\n",
    "plot_partial_dependence(rf, X_test, features=['Net Sales'], n_jobs=3, grid_resolution=20)\n",
    "fig = plt.gcf()\n",
    "fig.suptitle('Partial dependence')\n",
    "fig.subplots_adjust(wspace=0.4, hspace=0.3)\n",
    "plt.show()"
   ]
  },
  {
   "cell_type": "code",
   "execution_count": null,
   "id": "a4821f02",
   "metadata": {},
   "outputs": [],
   "source": []
  }
 ],
 "metadata": {
  "kernelspec": {
   "display_name": "Python 3.9.0 64-bit",
   "language": "python",
   "name": "python3"
  },
  "language_info": {
   "codemirror_mode": {
    "name": "ipython",
    "version": 3
   },
   "file_extension": ".py",
   "mimetype": "text/x-python",
   "name": "python",
   "nbconvert_exporter": "python",
   "pygments_lexer": "ipython3",
   "version": "3.9.0"
  },
  "vscode": {
   "interpreter": {
    "hash": "aee8b7b246df8f9039afb4144a1f6fd8d2ca17a180786b69acc140d282b71a49"
   }
  }
 },
 "nbformat": 4,
 "nbformat_minor": 5
}
